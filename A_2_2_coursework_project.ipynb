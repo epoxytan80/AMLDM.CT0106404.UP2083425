{
  "nbformat": 4,
  "nbformat_minor": 0,
  "metadata": {
    "colab": {
      "name": "A.2.2 coursework project.ipynb",
      "provenance": [],
      "collapsed_sections": []
    },
    "kernelspec": {
      "name": "python3",
      "display_name": "Python 3"
    },
    "language_info": {
      "name": "python"
    }
  },
  "cells": [
    {
      "cell_type": "markdown",
      "metadata": {
        "id": "RH1IShGlG_g2"
      },
      "source": [
        "Develop a prediction model to understand how prices of cars vary with their specifications"
      ]
    },
    {
      "cell_type": "code",
      "metadata": {
        "id": "vXhxS5DvG2Pp"
      },
      "source": [
        "# Importing libraries\n",
        "import numpy as np\n",
        "import pandas as pd\n",
        "import seaborn as sns\n",
        "import matplotlib.pyplot as plt"
      ],
      "execution_count": null,
      "outputs": []
    },
    {
      "cell_type": "code",
      "metadata": {
        "colab": {
          "resources": {
            "http://localhost:8080/nbextensions/google.colab/files.js": {
              "data": "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",
              "ok": true,
              "headers": [
                [
                  "content-type",
                  "application/javascript"
                ]
              ],
              "status": 200,
              "status_text": ""
            }
          },
          "base_uri": "https://localhost:8080/",
          "height": 72
        },
        "id": "CEkW8_HgIFc6",
        "outputId": "d36ec4fd-a6e6-4634-aae2-753f29006b16"
      },
      "source": [
        "# I using Google Colab\n",
        "import pandas as pd\n",
        "from google.colab import files\n",
        "uploaded = files.upload()"
      ],
      "execution_count": null,
      "outputs": [
        {
          "output_type": "display_data",
          "data": {
            "text/html": [
              "\n",
              "     <input type=\"file\" id=\"files-2dd7154b-7cf4-4533-b518-72054c7fb2a2\" name=\"files[]\" multiple disabled\n",
              "        style=\"border:none\" />\n",
              "     <output id=\"result-2dd7154b-7cf4-4533-b518-72054c7fb2a2\">\n",
              "      Upload widget is only available when the cell has been executed in the\n",
              "      current browser session. Please rerun this cell to enable.\n",
              "      </output>\n",
              "      <script src=\"/nbextensions/google.colab/files.js\"></script> "
            ],
            "text/plain": [
              "<IPython.core.display.HTML object>"
            ]
          },
          "metadata": {}
        },
        {
          "output_type": "stream",
          "name": "stdout",
          "text": [
            "Saving CarPrice_Assignment.csv to CarPrice_Assignment (1).csv\n"
          ]
        }
      ]
    },
    {
      "cell_type": "code",
      "metadata": {
        "colab": {
          "base_uri": "https://localhost:8080/",
          "height": 275
        },
        "id": "estcNnJ6INns",
        "outputId": "563e56ee-173b-4c3c-c62d-5830a4f1fbed"
      },
      "source": [
        "import io\n",
        "df = pd.read_csv(io.BytesIO(uploaded['CarPrice_Assignment.csv']))\n",
        "# Dataset is now stored in a Pandas Dataframe\n",
        "\n",
        "df.head()"
      ],
      "execution_count": null,
      "outputs": [
        {
          "output_type": "execute_result",
          "data": {
            "text/html": [
              "<div>\n",
              "<style scoped>\n",
              "    .dataframe tbody tr th:only-of-type {\n",
              "        vertical-align: middle;\n",
              "    }\n",
              "\n",
              "    .dataframe tbody tr th {\n",
              "        vertical-align: top;\n",
              "    }\n",
              "\n",
              "    .dataframe thead th {\n",
              "        text-align: right;\n",
              "    }\n",
              "</style>\n",
              "<table border=\"1\" class=\"dataframe\">\n",
              "  <thead>\n",
              "    <tr style=\"text-align: right;\">\n",
              "      <th></th>\n",
              "      <th>car_ID</th>\n",
              "      <th>symboling</th>\n",
              "      <th>CarName</th>\n",
              "      <th>fueltype</th>\n",
              "      <th>aspiration</th>\n",
              "      <th>doornumber</th>\n",
              "      <th>carbody</th>\n",
              "      <th>drivewheel</th>\n",
              "      <th>enginelocation</th>\n",
              "      <th>wheelbase</th>\n",
              "      <th>carlength</th>\n",
              "      <th>carwidth</th>\n",
              "      <th>carheight</th>\n",
              "      <th>curbweight</th>\n",
              "      <th>enginetype</th>\n",
              "      <th>cylindernumber</th>\n",
              "      <th>enginesize</th>\n",
              "      <th>fuelsystem</th>\n",
              "      <th>boreratio</th>\n",
              "      <th>stroke</th>\n",
              "      <th>compressionratio</th>\n",
              "      <th>horsepower</th>\n",
              "      <th>peakrpm</th>\n",
              "      <th>citympg</th>\n",
              "      <th>highwaympg</th>\n",
              "      <th>price</th>\n",
              "    </tr>\n",
              "  </thead>\n",
              "  <tbody>\n",
              "    <tr>\n",
              "      <th>0</th>\n",
              "      <td>1</td>\n",
              "      <td>3</td>\n",
              "      <td>alfa-romero giulia</td>\n",
              "      <td>gas</td>\n",
              "      <td>std</td>\n",
              "      <td>two</td>\n",
              "      <td>convertible</td>\n",
              "      <td>rwd</td>\n",
              "      <td>front</td>\n",
              "      <td>88.600</td>\n",
              "      <td>168.800</td>\n",
              "      <td>64.100</td>\n",
              "      <td>48.800</td>\n",
              "      <td>2548</td>\n",
              "      <td>dohc</td>\n",
              "      <td>four</td>\n",
              "      <td>130</td>\n",
              "      <td>mpfi</td>\n",
              "      <td>3.470</td>\n",
              "      <td>2.680</td>\n",
              "      <td>9.000</td>\n",
              "      <td>111</td>\n",
              "      <td>5000</td>\n",
              "      <td>21</td>\n",
              "      <td>27</td>\n",
              "      <td>13495.000</td>\n",
              "    </tr>\n",
              "    <tr>\n",
              "      <th>1</th>\n",
              "      <td>2</td>\n",
              "      <td>3</td>\n",
              "      <td>alfa-romero stelvio</td>\n",
              "      <td>gas</td>\n",
              "      <td>std</td>\n",
              "      <td>two</td>\n",
              "      <td>convertible</td>\n",
              "      <td>rwd</td>\n",
              "      <td>front</td>\n",
              "      <td>88.600</td>\n",
              "      <td>168.800</td>\n",
              "      <td>64.100</td>\n",
              "      <td>48.800</td>\n",
              "      <td>2548</td>\n",
              "      <td>dohc</td>\n",
              "      <td>four</td>\n",
              "      <td>130</td>\n",
              "      <td>mpfi</td>\n",
              "      <td>3.470</td>\n",
              "      <td>2.680</td>\n",
              "      <td>9.000</td>\n",
              "      <td>111</td>\n",
              "      <td>5000</td>\n",
              "      <td>21</td>\n",
              "      <td>27</td>\n",
              "      <td>16500.000</td>\n",
              "    </tr>\n",
              "    <tr>\n",
              "      <th>2</th>\n",
              "      <td>3</td>\n",
              "      <td>1</td>\n",
              "      <td>alfa-romero Quadrifoglio</td>\n",
              "      <td>gas</td>\n",
              "      <td>std</td>\n",
              "      <td>two</td>\n",
              "      <td>hatchback</td>\n",
              "      <td>rwd</td>\n",
              "      <td>front</td>\n",
              "      <td>94.500</td>\n",
              "      <td>171.200</td>\n",
              "      <td>65.500</td>\n",
              "      <td>52.400</td>\n",
              "      <td>2823</td>\n",
              "      <td>ohcv</td>\n",
              "      <td>six</td>\n",
              "      <td>152</td>\n",
              "      <td>mpfi</td>\n",
              "      <td>2.680</td>\n",
              "      <td>3.470</td>\n",
              "      <td>9.000</td>\n",
              "      <td>154</td>\n",
              "      <td>5000</td>\n",
              "      <td>19</td>\n",
              "      <td>26</td>\n",
              "      <td>16500.000</td>\n",
              "    </tr>\n",
              "    <tr>\n",
              "      <th>3</th>\n",
              "      <td>4</td>\n",
              "      <td>2</td>\n",
              "      <td>audi 100 ls</td>\n",
              "      <td>gas</td>\n",
              "      <td>std</td>\n",
              "      <td>four</td>\n",
              "      <td>sedan</td>\n",
              "      <td>fwd</td>\n",
              "      <td>front</td>\n",
              "      <td>99.800</td>\n",
              "      <td>176.600</td>\n",
              "      <td>66.200</td>\n",
              "      <td>54.300</td>\n",
              "      <td>2337</td>\n",
              "      <td>ohc</td>\n",
              "      <td>four</td>\n",
              "      <td>109</td>\n",
              "      <td>mpfi</td>\n",
              "      <td>3.190</td>\n",
              "      <td>3.400</td>\n",
              "      <td>10.000</td>\n",
              "      <td>102</td>\n",
              "      <td>5500</td>\n",
              "      <td>24</td>\n",
              "      <td>30</td>\n",
              "      <td>13950.000</td>\n",
              "    </tr>\n",
              "    <tr>\n",
              "      <th>4</th>\n",
              "      <td>5</td>\n",
              "      <td>2</td>\n",
              "      <td>audi 100ls</td>\n",
              "      <td>gas</td>\n",
              "      <td>std</td>\n",
              "      <td>four</td>\n",
              "      <td>sedan</td>\n",
              "      <td>4wd</td>\n",
              "      <td>front</td>\n",
              "      <td>99.400</td>\n",
              "      <td>176.600</td>\n",
              "      <td>66.400</td>\n",
              "      <td>54.300</td>\n",
              "      <td>2824</td>\n",
              "      <td>ohc</td>\n",
              "      <td>five</td>\n",
              "      <td>136</td>\n",
              "      <td>mpfi</td>\n",
              "      <td>3.190</td>\n",
              "      <td>3.400</td>\n",
              "      <td>8.000</td>\n",
              "      <td>115</td>\n",
              "      <td>5500</td>\n",
              "      <td>18</td>\n",
              "      <td>22</td>\n",
              "      <td>17450.000</td>\n",
              "    </tr>\n",
              "  </tbody>\n",
              "</table>\n",
              "</div>"
            ],
            "text/plain": [
              "   car_ID  symboling                   CarName  ... citympg highwaympg     price\n",
              "0       1          3        alfa-romero giulia  ...      21         27 13495.000\n",
              "1       2          3       alfa-romero stelvio  ...      21         27 16500.000\n",
              "2       3          1  alfa-romero Quadrifoglio  ...      19         26 16500.000\n",
              "3       4          2               audi 100 ls  ...      24         30 13950.000\n",
              "4       5          2                audi 100ls  ...      18         22 17450.000\n",
              "\n",
              "[5 rows x 26 columns]"
            ]
          },
          "metadata": {},
          "execution_count": 93
        }
      ]
    },
    {
      "cell_type": "code",
      "metadata": {
        "colab": {
          "base_uri": "https://localhost:8080/",
          "height": 297
        },
        "id": "wf8nIc_hIcX1",
        "outputId": "0beb0656-173e-483d-fb6d-94ed003d7bc8"
      },
      "source": [
        "df.describe()"
      ],
      "execution_count": null,
      "outputs": [
        {
          "output_type": "execute_result",
          "data": {
            "text/html": [
              "<div>\n",
              "<style scoped>\n",
              "    .dataframe tbody tr th:only-of-type {\n",
              "        vertical-align: middle;\n",
              "    }\n",
              "\n",
              "    .dataframe tbody tr th {\n",
              "        vertical-align: top;\n",
              "    }\n",
              "\n",
              "    .dataframe thead th {\n",
              "        text-align: right;\n",
              "    }\n",
              "</style>\n",
              "<table border=\"1\" class=\"dataframe\">\n",
              "  <thead>\n",
              "    <tr style=\"text-align: right;\">\n",
              "      <th></th>\n",
              "      <th>car_ID</th>\n",
              "      <th>symboling</th>\n",
              "      <th>wheelbase</th>\n",
              "      <th>carlength</th>\n",
              "      <th>carwidth</th>\n",
              "      <th>carheight</th>\n",
              "      <th>curbweight</th>\n",
              "      <th>enginesize</th>\n",
              "      <th>boreratio</th>\n",
              "      <th>stroke</th>\n",
              "      <th>compressionratio</th>\n",
              "      <th>horsepower</th>\n",
              "      <th>peakrpm</th>\n",
              "      <th>citympg</th>\n",
              "      <th>highwaympg</th>\n",
              "      <th>price</th>\n",
              "    </tr>\n",
              "  </thead>\n",
              "  <tbody>\n",
              "    <tr>\n",
              "      <th>count</th>\n",
              "      <td>205.000</td>\n",
              "      <td>205.000</td>\n",
              "      <td>205.000</td>\n",
              "      <td>205.000</td>\n",
              "      <td>205.000</td>\n",
              "      <td>205.000</td>\n",
              "      <td>205.000</td>\n",
              "      <td>205.000</td>\n",
              "      <td>205.000</td>\n",
              "      <td>205.000</td>\n",
              "      <td>205.000</td>\n",
              "      <td>205.000</td>\n",
              "      <td>205.000</td>\n",
              "      <td>205.000</td>\n",
              "      <td>205.000</td>\n",
              "      <td>205.000</td>\n",
              "    </tr>\n",
              "    <tr>\n",
              "      <th>mean</th>\n",
              "      <td>103.000</td>\n",
              "      <td>0.834</td>\n",
              "      <td>98.757</td>\n",
              "      <td>174.049</td>\n",
              "      <td>65.908</td>\n",
              "      <td>53.725</td>\n",
              "      <td>2555.566</td>\n",
              "      <td>126.907</td>\n",
              "      <td>3.330</td>\n",
              "      <td>3.255</td>\n",
              "      <td>10.143</td>\n",
              "      <td>104.117</td>\n",
              "      <td>5125.122</td>\n",
              "      <td>25.220</td>\n",
              "      <td>30.751</td>\n",
              "      <td>13276.711</td>\n",
              "    </tr>\n",
              "    <tr>\n",
              "      <th>std</th>\n",
              "      <td>59.323</td>\n",
              "      <td>1.245</td>\n",
              "      <td>6.022</td>\n",
              "      <td>12.337</td>\n",
              "      <td>2.145</td>\n",
              "      <td>2.444</td>\n",
              "      <td>520.680</td>\n",
              "      <td>41.643</td>\n",
              "      <td>0.271</td>\n",
              "      <td>0.314</td>\n",
              "      <td>3.972</td>\n",
              "      <td>39.544</td>\n",
              "      <td>476.986</td>\n",
              "      <td>6.542</td>\n",
              "      <td>6.886</td>\n",
              "      <td>7988.852</td>\n",
              "    </tr>\n",
              "    <tr>\n",
              "      <th>min</th>\n",
              "      <td>1.000</td>\n",
              "      <td>-2.000</td>\n",
              "      <td>86.600</td>\n",
              "      <td>141.100</td>\n",
              "      <td>60.300</td>\n",
              "      <td>47.800</td>\n",
              "      <td>1488.000</td>\n",
              "      <td>61.000</td>\n",
              "      <td>2.540</td>\n",
              "      <td>2.070</td>\n",
              "      <td>7.000</td>\n",
              "      <td>48.000</td>\n",
              "      <td>4150.000</td>\n",
              "      <td>13.000</td>\n",
              "      <td>16.000</td>\n",
              "      <td>5118.000</td>\n",
              "    </tr>\n",
              "    <tr>\n",
              "      <th>25%</th>\n",
              "      <td>52.000</td>\n",
              "      <td>0.000</td>\n",
              "      <td>94.500</td>\n",
              "      <td>166.300</td>\n",
              "      <td>64.100</td>\n",
              "      <td>52.000</td>\n",
              "      <td>2145.000</td>\n",
              "      <td>97.000</td>\n",
              "      <td>3.150</td>\n",
              "      <td>3.110</td>\n",
              "      <td>8.600</td>\n",
              "      <td>70.000</td>\n",
              "      <td>4800.000</td>\n",
              "      <td>19.000</td>\n",
              "      <td>25.000</td>\n",
              "      <td>7788.000</td>\n",
              "    </tr>\n",
              "    <tr>\n",
              "      <th>50%</th>\n",
              "      <td>103.000</td>\n",
              "      <td>1.000</td>\n",
              "      <td>97.000</td>\n",
              "      <td>173.200</td>\n",
              "      <td>65.500</td>\n",
              "      <td>54.100</td>\n",
              "      <td>2414.000</td>\n",
              "      <td>120.000</td>\n",
              "      <td>3.310</td>\n",
              "      <td>3.290</td>\n",
              "      <td>9.000</td>\n",
              "      <td>95.000</td>\n",
              "      <td>5200.000</td>\n",
              "      <td>24.000</td>\n",
              "      <td>30.000</td>\n",
              "      <td>10295.000</td>\n",
              "    </tr>\n",
              "    <tr>\n",
              "      <th>75%</th>\n",
              "      <td>154.000</td>\n",
              "      <td>2.000</td>\n",
              "      <td>102.400</td>\n",
              "      <td>183.100</td>\n",
              "      <td>66.900</td>\n",
              "      <td>55.500</td>\n",
              "      <td>2935.000</td>\n",
              "      <td>141.000</td>\n",
              "      <td>3.580</td>\n",
              "      <td>3.410</td>\n",
              "      <td>9.400</td>\n",
              "      <td>116.000</td>\n",
              "      <td>5500.000</td>\n",
              "      <td>30.000</td>\n",
              "      <td>34.000</td>\n",
              "      <td>16503.000</td>\n",
              "    </tr>\n",
              "    <tr>\n",
              "      <th>max</th>\n",
              "      <td>205.000</td>\n",
              "      <td>3.000</td>\n",
              "      <td>120.900</td>\n",
              "      <td>208.100</td>\n",
              "      <td>72.300</td>\n",
              "      <td>59.800</td>\n",
              "      <td>4066.000</td>\n",
              "      <td>326.000</td>\n",
              "      <td>3.940</td>\n",
              "      <td>4.170</td>\n",
              "      <td>23.000</td>\n",
              "      <td>288.000</td>\n",
              "      <td>6600.000</td>\n",
              "      <td>49.000</td>\n",
              "      <td>54.000</td>\n",
              "      <td>45400.000</td>\n",
              "    </tr>\n",
              "  </tbody>\n",
              "</table>\n",
              "</div>"
            ],
            "text/plain": [
              "       car_ID  symboling  wheelbase  ...  citympg  highwaympg     price\n",
              "count 205.000    205.000    205.000  ...  205.000     205.000   205.000\n",
              "mean  103.000      0.834     98.757  ...   25.220      30.751 13276.711\n",
              "std    59.323      1.245      6.022  ...    6.542       6.886  7988.852\n",
              "min     1.000     -2.000     86.600  ...   13.000      16.000  5118.000\n",
              "25%    52.000      0.000     94.500  ...   19.000      25.000  7788.000\n",
              "50%   103.000      1.000     97.000  ...   24.000      30.000 10295.000\n",
              "75%   154.000      2.000    102.400  ...   30.000      34.000 16503.000\n",
              "max   205.000      3.000    120.900  ...   49.000      54.000 45400.000\n",
              "\n",
              "[8 rows x 16 columns]"
            ]
          },
          "metadata": {},
          "execution_count": 94
        }
      ]
    },
    {
      "cell_type": "code",
      "metadata": {
        "colab": {
          "base_uri": "https://localhost:8080/"
        },
        "id": "BNW01501J8vl",
        "outputId": "e052f94c-1aac-4580-8b8c-7c779d25d475"
      },
      "source": [
        "df.isnull().sum().sum()\n",
        "#see have any null values in the data frame"
      ],
      "execution_count": null,
      "outputs": [
        {
          "output_type": "execute_result",
          "data": {
            "text/plain": [
              "0"
            ]
          },
          "metadata": {},
          "execution_count": 95
        }
      ]
    },
    {
      "cell_type": "code",
      "metadata": {
        "colab": {
          "base_uri": "https://localhost:8080/"
        },
        "id": "YrGsQDiKsgjT",
        "outputId": "5bff6b48-b651-42fd-c8ec-cbcd46cacbef"
      },
      "source": [
        "df.nunique()"
      ],
      "execution_count": null,
      "outputs": [
        {
          "output_type": "execute_result",
          "data": {
            "text/plain": [
              "car_ID              205\n",
              "symboling             6\n",
              "CarName             147\n",
              "fueltype              2\n",
              "aspiration            2\n",
              "doornumber            2\n",
              "carbody               5\n",
              "drivewheel            3\n",
              "enginelocation        2\n",
              "wheelbase            53\n",
              "carlength            75\n",
              "carwidth             44\n",
              "carheight            49\n",
              "curbweight          171\n",
              "enginetype            7\n",
              "cylindernumber        7\n",
              "enginesize           44\n",
              "fuelsystem            8\n",
              "boreratio            38\n",
              "stroke               37\n",
              "compressionratio     32\n",
              "horsepower           59\n",
              "peakrpm              23\n",
              "citympg              29\n",
              "highwaympg           30\n",
              "price               189\n",
              "dtype: int64"
            ]
          },
          "metadata": {},
          "execution_count": 96
        }
      ]
    },
    {
      "cell_type": "code",
      "metadata": {
        "colab": {
          "base_uri": "https://localhost:8080/"
        },
        "id": "XnGqoocwJpvK",
        "outputId": "3bcc858c-1e4c-4f60-ec45-f8ccdda62d60"
      },
      "source": [
        "df.shape"
      ],
      "execution_count": null,
      "outputs": [
        {
          "output_type": "execute_result",
          "data": {
            "text/plain": [
              "(205, 26)"
            ]
          },
          "metadata": {},
          "execution_count": 97
        }
      ]
    },
    {
      "cell_type": "code",
      "metadata": {
        "colab": {
          "base_uri": "https://localhost:8080/"
        },
        "id": "aFZdIGyZJ-Ri",
        "outputId": "235d2a4d-6359-4db1-c4a1-2e92ac7aebaa"
      },
      "source": [
        "df.info()"
      ],
      "execution_count": null,
      "outputs": [
        {
          "output_type": "stream",
          "name": "stdout",
          "text": [
            "<class 'pandas.core.frame.DataFrame'>\n",
            "RangeIndex: 205 entries, 0 to 204\n",
            "Data columns (total 26 columns):\n",
            " #   Column            Non-Null Count  Dtype  \n",
            "---  ------            --------------  -----  \n",
            " 0   car_ID            205 non-null    int64  \n",
            " 1   symboling         205 non-null    int64  \n",
            " 2   CarName           205 non-null    object \n",
            " 3   fueltype          205 non-null    object \n",
            " 4   aspiration        205 non-null    object \n",
            " 5   doornumber        205 non-null    object \n",
            " 6   carbody           205 non-null    object \n",
            " 7   drivewheel        205 non-null    object \n",
            " 8   enginelocation    205 non-null    object \n",
            " 9   wheelbase         205 non-null    float64\n",
            " 10  carlength         205 non-null    float64\n",
            " 11  carwidth          205 non-null    float64\n",
            " 12  carheight         205 non-null    float64\n",
            " 13  curbweight        205 non-null    int64  \n",
            " 14  enginetype        205 non-null    object \n",
            " 15  cylindernumber    205 non-null    object \n",
            " 16  enginesize        205 non-null    int64  \n",
            " 17  fuelsystem        205 non-null    object \n",
            " 18  boreratio         205 non-null    float64\n",
            " 19  stroke            205 non-null    float64\n",
            " 20  compressionratio  205 non-null    float64\n",
            " 21  horsepower        205 non-null    int64  \n",
            " 22  peakrpm           205 non-null    int64  \n",
            " 23  citympg           205 non-null    int64  \n",
            " 24  highwaympg        205 non-null    int64  \n",
            " 25  price             205 non-null    float64\n",
            "dtypes: float64(8), int64(8), object(10)\n",
            "memory usage: 41.8+ KB\n"
          ]
        }
      ]
    },
    {
      "cell_type": "code",
      "metadata": {
        "id": "ZWF-FyQIf0Nw"
      },
      "source": [
        "#exploratory  data analysis\n",
        "\n",
        "EDA_df = df.copy()"
      ],
      "execution_count": null,
      "outputs": []
    },
    {
      "cell_type": "code",
      "metadata": {
        "id": "pL8XB-H1K0mg"
      },
      "source": [
        "# split the Car name to company name\n",
        "EDA_df['Company']= EDA_df['CarName'].apply(lambda x: x.split(\" \")[0])\n",
        "EDA_df['Company']= EDA_df['Company'].apply(lambda x: x.lower())"
      ],
      "execution_count": null,
      "outputs": []
    },
    {
      "cell_type": "code",
      "metadata": {
        "colab": {
          "base_uri": "https://localhost:8080/"
        },
        "id": "HNEVyI3YK7Cf",
        "outputId": "d847b544-a604-4b9e-9fb0-6d40b604cc4d"
      },
      "source": [
        "#list out the company name\n",
        "EDA_df['Company'].unique()"
      ],
      "execution_count": null,
      "outputs": [
        {
          "output_type": "execute_result",
          "data": {
            "text/plain": [
              "array(['alfa-romero', 'audi', 'bmw', 'chevrolet', 'dodge', 'honda',\n",
              "       'isuzu', 'jaguar', 'maxda', 'mazda', 'buick', 'mercury',\n",
              "       'mitsubishi', 'nissan', 'peugeot', 'plymouth', 'porsche',\n",
              "       'porcshce', 'renault', 'saab', 'subaru', 'toyota', 'toyouta',\n",
              "       'vokswagen', 'volkswagen', 'vw', 'volvo'], dtype=object)"
            ]
          },
          "metadata": {},
          "execution_count": 103
        }
      ]
    },
    {
      "cell_type": "code",
      "metadata": {
        "id": "nLRJIom4Lnu3"
      },
      "source": [
        "# Mis-spell and rename it correctly\n",
        "EDA_df['Company'].replace({'maxda': 'mazda', 'porcshce':'porsche', 'toyouta':'toyota', 'vokswagen':'volkswagen','vw':'volkswagen'}, inplace=True)"
      ],
      "execution_count": null,
      "outputs": []
    },
    {
      "cell_type": "code",
      "metadata": {
        "colab": {
          "base_uri": "https://localhost:8080/"
        },
        "id": "AxHkuPbKL5_2",
        "outputId": "2539c3a3-d86d-4d4e-8099-31200d989889"
      },
      "source": [
        "#checking all name is correct\n",
        "EDA_df['Company'].unique()"
      ],
      "execution_count": null,
      "outputs": [
        {
          "output_type": "execute_result",
          "data": {
            "text/plain": [
              "array(['alfa-romero', 'audi', 'bmw', 'chevrolet', 'dodge', 'honda',\n",
              "       'isuzu', 'jaguar', 'mazda', 'buick', 'mercury', 'mitsubishi',\n",
              "       'nissan', 'peugeot', 'plymouth', 'porsche', 'renault', 'saab',\n",
              "       'subaru', 'toyota', 'volkswagen', 'volvo'], dtype=object)"
            ]
          },
          "metadata": {},
          "execution_count": 105
        }
      ]
    },
    {
      "cell_type": "code",
      "metadata": {
        "id": "lSrtvbx3N_Tt"
      },
      "source": [
        "# removing the car id and car name and change to Company name\n",
        " \n",
        "EDA_df= EDA_df.drop(['car_ID','CarName'], axis=1) \n"
      ],
      "execution_count": null,
      "outputs": []
    },
    {
      "cell_type": "code",
      "metadata": {
        "colab": {
          "base_uri": "https://localhost:8080/",
          "height": 490
        },
        "id": "Q-Zekp4ChAt1",
        "outputId": "b22575e1-defb-4025-b3be-3fdf2b68ae1f"
      },
      "source": [
        "EDA_df"
      ],
      "execution_count": null,
      "outputs": [
        {
          "output_type": "execute_result",
          "data": {
            "text/html": [
              "<div>\n",
              "<style scoped>\n",
              "    .dataframe tbody tr th:only-of-type {\n",
              "        vertical-align: middle;\n",
              "    }\n",
              "\n",
              "    .dataframe tbody tr th {\n",
              "        vertical-align: top;\n",
              "    }\n",
              "\n",
              "    .dataframe thead th {\n",
              "        text-align: right;\n",
              "    }\n",
              "</style>\n",
              "<table border=\"1\" class=\"dataframe\">\n",
              "  <thead>\n",
              "    <tr style=\"text-align: right;\">\n",
              "      <th></th>\n",
              "      <th>symboling</th>\n",
              "      <th>fueltype</th>\n",
              "      <th>aspiration</th>\n",
              "      <th>doornumber</th>\n",
              "      <th>carbody</th>\n",
              "      <th>drivewheel</th>\n",
              "      <th>enginelocation</th>\n",
              "      <th>wheelbase</th>\n",
              "      <th>carlength</th>\n",
              "      <th>carwidth</th>\n",
              "      <th>carheight</th>\n",
              "      <th>curbweight</th>\n",
              "      <th>enginetype</th>\n",
              "      <th>cylindernumber</th>\n",
              "      <th>enginesize</th>\n",
              "      <th>fuelsystem</th>\n",
              "      <th>boreratio</th>\n",
              "      <th>stroke</th>\n",
              "      <th>compressionratio</th>\n",
              "      <th>horsepower</th>\n",
              "      <th>peakrpm</th>\n",
              "      <th>citympg</th>\n",
              "      <th>highwaympg</th>\n",
              "      <th>price</th>\n",
              "      <th>Company</th>\n",
              "    </tr>\n",
              "  </thead>\n",
              "  <tbody>\n",
              "    <tr>\n",
              "      <th>0</th>\n",
              "      <td>3</td>\n",
              "      <td>gas</td>\n",
              "      <td>std</td>\n",
              "      <td>two</td>\n",
              "      <td>convertible</td>\n",
              "      <td>rwd</td>\n",
              "      <td>front</td>\n",
              "      <td>88.600</td>\n",
              "      <td>168.800</td>\n",
              "      <td>64.100</td>\n",
              "      <td>48.800</td>\n",
              "      <td>2548</td>\n",
              "      <td>dohc</td>\n",
              "      <td>four</td>\n",
              "      <td>130</td>\n",
              "      <td>mpfi</td>\n",
              "      <td>3.470</td>\n",
              "      <td>2.680</td>\n",
              "      <td>9.000</td>\n",
              "      <td>111</td>\n",
              "      <td>5000</td>\n",
              "      <td>21</td>\n",
              "      <td>27</td>\n",
              "      <td>13495.000</td>\n",
              "      <td>alfa-romero</td>\n",
              "    </tr>\n",
              "    <tr>\n",
              "      <th>1</th>\n",
              "      <td>3</td>\n",
              "      <td>gas</td>\n",
              "      <td>std</td>\n",
              "      <td>two</td>\n",
              "      <td>convertible</td>\n",
              "      <td>rwd</td>\n",
              "      <td>front</td>\n",
              "      <td>88.600</td>\n",
              "      <td>168.800</td>\n",
              "      <td>64.100</td>\n",
              "      <td>48.800</td>\n",
              "      <td>2548</td>\n",
              "      <td>dohc</td>\n",
              "      <td>four</td>\n",
              "      <td>130</td>\n",
              "      <td>mpfi</td>\n",
              "      <td>3.470</td>\n",
              "      <td>2.680</td>\n",
              "      <td>9.000</td>\n",
              "      <td>111</td>\n",
              "      <td>5000</td>\n",
              "      <td>21</td>\n",
              "      <td>27</td>\n",
              "      <td>16500.000</td>\n",
              "      <td>alfa-romero</td>\n",
              "    </tr>\n",
              "    <tr>\n",
              "      <th>2</th>\n",
              "      <td>1</td>\n",
              "      <td>gas</td>\n",
              "      <td>std</td>\n",
              "      <td>two</td>\n",
              "      <td>hatchback</td>\n",
              "      <td>rwd</td>\n",
              "      <td>front</td>\n",
              "      <td>94.500</td>\n",
              "      <td>171.200</td>\n",
              "      <td>65.500</td>\n",
              "      <td>52.400</td>\n",
              "      <td>2823</td>\n",
              "      <td>ohcv</td>\n",
              "      <td>six</td>\n",
              "      <td>152</td>\n",
              "      <td>mpfi</td>\n",
              "      <td>2.680</td>\n",
              "      <td>3.470</td>\n",
              "      <td>9.000</td>\n",
              "      <td>154</td>\n",
              "      <td>5000</td>\n",
              "      <td>19</td>\n",
              "      <td>26</td>\n",
              "      <td>16500.000</td>\n",
              "      <td>alfa-romero</td>\n",
              "    </tr>\n",
              "    <tr>\n",
              "      <th>3</th>\n",
              "      <td>2</td>\n",
              "      <td>gas</td>\n",
              "      <td>std</td>\n",
              "      <td>four</td>\n",
              "      <td>sedan</td>\n",
              "      <td>fwd</td>\n",
              "      <td>front</td>\n",
              "      <td>99.800</td>\n",
              "      <td>176.600</td>\n",
              "      <td>66.200</td>\n",
              "      <td>54.300</td>\n",
              "      <td>2337</td>\n",
              "      <td>ohc</td>\n",
              "      <td>four</td>\n",
              "      <td>109</td>\n",
              "      <td>mpfi</td>\n",
              "      <td>3.190</td>\n",
              "      <td>3.400</td>\n",
              "      <td>10.000</td>\n",
              "      <td>102</td>\n",
              "      <td>5500</td>\n",
              "      <td>24</td>\n",
              "      <td>30</td>\n",
              "      <td>13950.000</td>\n",
              "      <td>audi</td>\n",
              "    </tr>\n",
              "    <tr>\n",
              "      <th>4</th>\n",
              "      <td>2</td>\n",
              "      <td>gas</td>\n",
              "      <td>std</td>\n",
              "      <td>four</td>\n",
              "      <td>sedan</td>\n",
              "      <td>4wd</td>\n",
              "      <td>front</td>\n",
              "      <td>99.400</td>\n",
              "      <td>176.600</td>\n",
              "      <td>66.400</td>\n",
              "      <td>54.300</td>\n",
              "      <td>2824</td>\n",
              "      <td>ohc</td>\n",
              "      <td>five</td>\n",
              "      <td>136</td>\n",
              "      <td>mpfi</td>\n",
              "      <td>3.190</td>\n",
              "      <td>3.400</td>\n",
              "      <td>8.000</td>\n",
              "      <td>115</td>\n",
              "      <td>5500</td>\n",
              "      <td>18</td>\n",
              "      <td>22</td>\n",
              "      <td>17450.000</td>\n",
              "      <td>audi</td>\n",
              "    </tr>\n",
              "    <tr>\n",
              "      <th>...</th>\n",
              "      <td>...</td>\n",
              "      <td>...</td>\n",
              "      <td>...</td>\n",
              "      <td>...</td>\n",
              "      <td>...</td>\n",
              "      <td>...</td>\n",
              "      <td>...</td>\n",
              "      <td>...</td>\n",
              "      <td>...</td>\n",
              "      <td>...</td>\n",
              "      <td>...</td>\n",
              "      <td>...</td>\n",
              "      <td>...</td>\n",
              "      <td>...</td>\n",
              "      <td>...</td>\n",
              "      <td>...</td>\n",
              "      <td>...</td>\n",
              "      <td>...</td>\n",
              "      <td>...</td>\n",
              "      <td>...</td>\n",
              "      <td>...</td>\n",
              "      <td>...</td>\n",
              "      <td>...</td>\n",
              "      <td>...</td>\n",
              "      <td>...</td>\n",
              "    </tr>\n",
              "    <tr>\n",
              "      <th>200</th>\n",
              "      <td>-1</td>\n",
              "      <td>gas</td>\n",
              "      <td>std</td>\n",
              "      <td>four</td>\n",
              "      <td>sedan</td>\n",
              "      <td>rwd</td>\n",
              "      <td>front</td>\n",
              "      <td>109.100</td>\n",
              "      <td>188.800</td>\n",
              "      <td>68.900</td>\n",
              "      <td>55.500</td>\n",
              "      <td>2952</td>\n",
              "      <td>ohc</td>\n",
              "      <td>four</td>\n",
              "      <td>141</td>\n",
              "      <td>mpfi</td>\n",
              "      <td>3.780</td>\n",
              "      <td>3.150</td>\n",
              "      <td>9.500</td>\n",
              "      <td>114</td>\n",
              "      <td>5400</td>\n",
              "      <td>23</td>\n",
              "      <td>28</td>\n",
              "      <td>16845.000</td>\n",
              "      <td>volvo</td>\n",
              "    </tr>\n",
              "    <tr>\n",
              "      <th>201</th>\n",
              "      <td>-1</td>\n",
              "      <td>gas</td>\n",
              "      <td>turbo</td>\n",
              "      <td>four</td>\n",
              "      <td>sedan</td>\n",
              "      <td>rwd</td>\n",
              "      <td>front</td>\n",
              "      <td>109.100</td>\n",
              "      <td>188.800</td>\n",
              "      <td>68.800</td>\n",
              "      <td>55.500</td>\n",
              "      <td>3049</td>\n",
              "      <td>ohc</td>\n",
              "      <td>four</td>\n",
              "      <td>141</td>\n",
              "      <td>mpfi</td>\n",
              "      <td>3.780</td>\n",
              "      <td>3.150</td>\n",
              "      <td>8.700</td>\n",
              "      <td>160</td>\n",
              "      <td>5300</td>\n",
              "      <td>19</td>\n",
              "      <td>25</td>\n",
              "      <td>19045.000</td>\n",
              "      <td>volvo</td>\n",
              "    </tr>\n",
              "    <tr>\n",
              "      <th>202</th>\n",
              "      <td>-1</td>\n",
              "      <td>gas</td>\n",
              "      <td>std</td>\n",
              "      <td>four</td>\n",
              "      <td>sedan</td>\n",
              "      <td>rwd</td>\n",
              "      <td>front</td>\n",
              "      <td>109.100</td>\n",
              "      <td>188.800</td>\n",
              "      <td>68.900</td>\n",
              "      <td>55.500</td>\n",
              "      <td>3012</td>\n",
              "      <td>ohcv</td>\n",
              "      <td>six</td>\n",
              "      <td>173</td>\n",
              "      <td>mpfi</td>\n",
              "      <td>3.580</td>\n",
              "      <td>2.870</td>\n",
              "      <td>8.800</td>\n",
              "      <td>134</td>\n",
              "      <td>5500</td>\n",
              "      <td>18</td>\n",
              "      <td>23</td>\n",
              "      <td>21485.000</td>\n",
              "      <td>volvo</td>\n",
              "    </tr>\n",
              "    <tr>\n",
              "      <th>203</th>\n",
              "      <td>-1</td>\n",
              "      <td>diesel</td>\n",
              "      <td>turbo</td>\n",
              "      <td>four</td>\n",
              "      <td>sedan</td>\n",
              "      <td>rwd</td>\n",
              "      <td>front</td>\n",
              "      <td>109.100</td>\n",
              "      <td>188.800</td>\n",
              "      <td>68.900</td>\n",
              "      <td>55.500</td>\n",
              "      <td>3217</td>\n",
              "      <td>ohc</td>\n",
              "      <td>six</td>\n",
              "      <td>145</td>\n",
              "      <td>idi</td>\n",
              "      <td>3.010</td>\n",
              "      <td>3.400</td>\n",
              "      <td>23.000</td>\n",
              "      <td>106</td>\n",
              "      <td>4800</td>\n",
              "      <td>26</td>\n",
              "      <td>27</td>\n",
              "      <td>22470.000</td>\n",
              "      <td>volvo</td>\n",
              "    </tr>\n",
              "    <tr>\n",
              "      <th>204</th>\n",
              "      <td>-1</td>\n",
              "      <td>gas</td>\n",
              "      <td>turbo</td>\n",
              "      <td>four</td>\n",
              "      <td>sedan</td>\n",
              "      <td>rwd</td>\n",
              "      <td>front</td>\n",
              "      <td>109.100</td>\n",
              "      <td>188.800</td>\n",
              "      <td>68.900</td>\n",
              "      <td>55.500</td>\n",
              "      <td>3062</td>\n",
              "      <td>ohc</td>\n",
              "      <td>four</td>\n",
              "      <td>141</td>\n",
              "      <td>mpfi</td>\n",
              "      <td>3.780</td>\n",
              "      <td>3.150</td>\n",
              "      <td>9.500</td>\n",
              "      <td>114</td>\n",
              "      <td>5400</td>\n",
              "      <td>19</td>\n",
              "      <td>25</td>\n",
              "      <td>22625.000</td>\n",
              "      <td>volvo</td>\n",
              "    </tr>\n",
              "  </tbody>\n",
              "</table>\n",
              "<p>205 rows × 25 columns</p>\n",
              "</div>"
            ],
            "text/plain": [
              "     symboling fueltype aspiration  ... highwaympg     price      Company\n",
              "0            3      gas        std  ...         27 13495.000  alfa-romero\n",
              "1            3      gas        std  ...         27 16500.000  alfa-romero\n",
              "2            1      gas        std  ...         26 16500.000  alfa-romero\n",
              "3            2      gas        std  ...         30 13950.000         audi\n",
              "4            2      gas        std  ...         22 17450.000         audi\n",
              "..         ...      ...        ...  ...        ...       ...          ...\n",
              "200         -1      gas        std  ...         28 16845.000        volvo\n",
              "201         -1      gas      turbo  ...         25 19045.000        volvo\n",
              "202         -1      gas        std  ...         23 21485.000        volvo\n",
              "203         -1   diesel      turbo  ...         27 22470.000        volvo\n",
              "204         -1      gas      turbo  ...         25 22625.000        volvo\n",
              "\n",
              "[205 rows x 25 columns]"
            ]
          },
          "metadata": {},
          "execution_count": 107
        }
      ]
    },
    {
      "cell_type": "code",
      "metadata": {
        "id": "HYu0rSlQ4Fo7"
      },
      "source": [
        "numerical= EDA_df.drop(['price'], axis=1).select_dtypes('number').columns\n",
        "\n",
        "categorical = EDA_df.select_dtypes('object').columns\n"
      ],
      "execution_count": null,
      "outputs": []
    },
    {
      "cell_type": "code",
      "metadata": {
        "colab": {
          "base_uri": "https://localhost:8080/"
        },
        "id": "DBHvpjwsPUzq",
        "outputId": "72527731-75e2-4400-a08c-e83a9770194e"
      },
      "source": [
        "categorical\n"
      ],
      "execution_count": null,
      "outputs": [
        {
          "output_type": "execute_result",
          "data": {
            "text/plain": [
              "Index(['fueltype', 'aspiration', 'doornumber', 'carbody', 'drivewheel',\n",
              "       'enginelocation', 'enginetype', 'cylindernumber', 'fuelsystem',\n",
              "       'Company'],\n",
              "      dtype='object')"
            ]
          },
          "metadata": {},
          "execution_count": 109
        }
      ]
    },
    {
      "cell_type": "code",
      "metadata": {
        "colab": {
          "base_uri": "https://localhost:8080/"
        },
        "id": "Lw9oImphPs6b",
        "outputId": "a760ce79-68d3-4cb7-e580-62a442322f14"
      },
      "source": [
        "numerical"
      ],
      "execution_count": null,
      "outputs": [
        {
          "output_type": "execute_result",
          "data": {
            "text/plain": [
              "Index(['symboling', 'wheelbase', 'carlength', 'carwidth', 'carheight',\n",
              "       'curbweight', 'enginesize', 'boreratio', 'stroke', 'compressionratio',\n",
              "       'horsepower', 'peakrpm', 'citympg', 'highwaympg'],\n",
              "      dtype='object')"
            ]
          },
          "metadata": {},
          "execution_count": 110
        }
      ]
    },
    {
      "cell_type": "code",
      "metadata": {
        "colab": {
          "base_uri": "https://localhost:8080/"
        },
        "id": "1v1EzVMMh1bv",
        "outputId": "b838701e-0a39-46e8-f07d-ddc41606b135"
      },
      "source": [
        "EDA_df['price'].describe()"
      ],
      "execution_count": null,
      "outputs": [
        {
          "output_type": "execute_result",
          "data": {
            "text/plain": [
              "count     205.000\n",
              "mean    13276.711\n",
              "std      7988.852\n",
              "min      5118.000\n",
              "25%      7788.000\n",
              "50%     10295.000\n",
              "75%     16503.000\n",
              "max     45400.000\n",
              "Name: price, dtype: float64"
            ]
          },
          "metadata": {},
          "execution_count": 111
        }
      ]
    },
    {
      "cell_type": "code",
      "metadata": {
        "colab": {
          "base_uri": "https://localhost:8080/"
        },
        "id": "7DdT4sAJiL08",
        "outputId": "04bbc89c-b6cb-41a7-f6ca-460d63d8364b"
      },
      "source": [
        "print( f\"Skewness: {EDA_df['price'].skew()}\")"
      ],
      "execution_count": null,
      "outputs": [
        {
          "output_type": "stream",
          "name": "stdout",
          "text": [
            "Skewness: 1.7776781560914454\n"
          ]
        }
      ]
    },
    {
      "cell_type": "code",
      "metadata": {
        "colab": {
          "base_uri": "https://localhost:8080/",
          "height": 282
        },
        "id": "7OwkAf87iWDZ",
        "outputId": "cc1ed2d9-2341-42cf-b99f-29d76fc88a9c"
      },
      "source": [
        "EDA_df['price'].plot(kind='hist')"
      ],
      "execution_count": null,
      "outputs": [
        {
          "output_type": "execute_result",
          "data": {
            "text/plain": [
              "<matplotlib.axes._subplots.AxesSubplot at 0x7efdc12380d0>"
            ]
          },
          "metadata": {},
          "execution_count": 113
        },
        {
          "output_type": "display_data",
          "data": {
            "image/png": "[encoded data removed]",
            "text/plain": [
              "<Figure size 432x288 with 1 Axes>"
            ]
          },
          "metadata": {
            "needs_background": "light"
          }
        }
      ]
    },
    {
      "cell_type": "code",
      "metadata": {
        "colab": {
          "base_uri": "https://localhost:8080/",
          "height": 297
        },
        "id": "Dx3VbLTtir33",
        "outputId": "64402082-8f70-48f3-cb40-06e9fbc050d5"
      },
      "source": [
        "EDA_df[numerical].describe()"
      ],
      "execution_count": null,
      "outputs": [
        {
          "output_type": "execute_result",
          "data": {
            "text/html": [
              "<div>\n",
              "<style scoped>\n",
              "    .dataframe tbody tr th:only-of-type {\n",
              "        vertical-align: middle;\n",
              "    }\n",
              "\n",
              "    .dataframe tbody tr th {\n",
              "        vertical-align: top;\n",
              "    }\n",
              "\n",
              "    .dataframe thead th {\n",
              "        text-align: right;\n",
              "    }\n",
              "</style>\n",
              "<table border=\"1\" class=\"dataframe\">\n",
              "  <thead>\n",
              "    <tr style=\"text-align: right;\">\n",
              "      <th></th>\n",
              "      <th>symboling</th>\n",
              "      <th>wheelbase</th>\n",
              "      <th>carlength</th>\n",
              "      <th>carwidth</th>\n",
              "      <th>carheight</th>\n",
              "      <th>curbweight</th>\n",
              "      <th>enginesize</th>\n",
              "      <th>boreratio</th>\n",
              "      <th>stroke</th>\n",
              "      <th>compressionratio</th>\n",
              "      <th>horsepower</th>\n",
              "      <th>peakrpm</th>\n",
              "      <th>citympg</th>\n",
              "      <th>highwaympg</th>\n",
              "    </tr>\n",
              "  </thead>\n",
              "  <tbody>\n",
              "    <tr>\n",
              "      <th>count</th>\n",
              "      <td>205.000</td>\n",
              "      <td>205.000</td>\n",
              "      <td>205.000</td>\n",
              "      <td>205.000</td>\n",
              "      <td>205.000</td>\n",
              "      <td>205.000</td>\n",
              "      <td>205.000</td>\n",
              "      <td>205.000</td>\n",
              "      <td>205.000</td>\n",
              "      <td>205.000</td>\n",
              "      <td>205.000</td>\n",
              "      <td>205.000</td>\n",
              "      <td>205.000</td>\n",
              "      <td>205.000</td>\n",
              "    </tr>\n",
              "    <tr>\n",
              "      <th>mean</th>\n",
              "      <td>0.834</td>\n",
              "      <td>98.757</td>\n",
              "      <td>174.049</td>\n",
              "      <td>65.908</td>\n",
              "      <td>53.725</td>\n",
              "      <td>2555.566</td>\n",
              "      <td>126.907</td>\n",
              "      <td>3.330</td>\n",
              "      <td>3.255</td>\n",
              "      <td>10.143</td>\n",
              "      <td>104.117</td>\n",
              "      <td>5125.122</td>\n",
              "      <td>25.220</td>\n",
              "      <td>30.751</td>\n",
              "    </tr>\n",
              "    <tr>\n",
              "      <th>std</th>\n",
              "      <td>1.245</td>\n",
              "      <td>6.022</td>\n",
              "      <td>12.337</td>\n",
              "      <td>2.145</td>\n",
              "      <td>2.444</td>\n",
              "      <td>520.680</td>\n",
              "      <td>41.643</td>\n",
              "      <td>0.271</td>\n",
              "      <td>0.314</td>\n",
              "      <td>3.972</td>\n",
              "      <td>39.544</td>\n",
              "      <td>476.986</td>\n",
              "      <td>6.542</td>\n",
              "      <td>6.886</td>\n",
              "    </tr>\n",
              "    <tr>\n",
              "      <th>min</th>\n",
              "      <td>-2.000</td>\n",
              "      <td>86.600</td>\n",
              "      <td>141.100</td>\n",
              "      <td>60.300</td>\n",
              "      <td>47.800</td>\n",
              "      <td>1488.000</td>\n",
              "      <td>61.000</td>\n",
              "      <td>2.540</td>\n",
              "      <td>2.070</td>\n",
              "      <td>7.000</td>\n",
              "      <td>48.000</td>\n",
              "      <td>4150.000</td>\n",
              "      <td>13.000</td>\n",
              "      <td>16.000</td>\n",
              "    </tr>\n",
              "    <tr>\n",
              "      <th>25%</th>\n",
              "      <td>0.000</td>\n",
              "      <td>94.500</td>\n",
              "      <td>166.300</td>\n",
              "      <td>64.100</td>\n",
              "      <td>52.000</td>\n",
              "      <td>2145.000</td>\n",
              "      <td>97.000</td>\n",
              "      <td>3.150</td>\n",
              "      <td>3.110</td>\n",
              "      <td>8.600</td>\n",
              "      <td>70.000</td>\n",
              "      <td>4800.000</td>\n",
              "      <td>19.000</td>\n",
              "      <td>25.000</td>\n",
              "    </tr>\n",
              "    <tr>\n",
              "      <th>50%</th>\n",
              "      <td>1.000</td>\n",
              "      <td>97.000</td>\n",
              "      <td>173.200</td>\n",
              "      <td>65.500</td>\n",
              "      <td>54.100</td>\n",
              "      <td>2414.000</td>\n",
              "      <td>120.000</td>\n",
              "      <td>3.310</td>\n",
              "      <td>3.290</td>\n",
              "      <td>9.000</td>\n",
              "      <td>95.000</td>\n",
              "      <td>5200.000</td>\n",
              "      <td>24.000</td>\n",
              "      <td>30.000</td>\n",
              "    </tr>\n",
              "    <tr>\n",
              "      <th>75%</th>\n",
              "      <td>2.000</td>\n",
              "      <td>102.400</td>\n",
              "      <td>183.100</td>\n",
              "      <td>66.900</td>\n",
              "      <td>55.500</td>\n",
              "      <td>2935.000</td>\n",
              "      <td>141.000</td>\n",
              "      <td>3.580</td>\n",
              "      <td>3.410</td>\n",
              "      <td>9.400</td>\n",
              "      <td>116.000</td>\n",
              "      <td>5500.000</td>\n",
              "      <td>30.000</td>\n",
              "      <td>34.000</td>\n",
              "    </tr>\n",
              "    <tr>\n",
              "      <th>max</th>\n",
              "      <td>3.000</td>\n",
              "      <td>120.900</td>\n",
              "      <td>208.100</td>\n",
              "      <td>72.300</td>\n",
              "      <td>59.800</td>\n",
              "      <td>4066.000</td>\n",
              "      <td>326.000</td>\n",
              "      <td>3.940</td>\n",
              "      <td>4.170</td>\n",
              "      <td>23.000</td>\n",
              "      <td>288.000</td>\n",
              "      <td>6600.000</td>\n",
              "      <td>49.000</td>\n",
              "      <td>54.000</td>\n",
              "    </tr>\n",
              "  </tbody>\n",
              "</table>\n",
              "</div>"
            ],
            "text/plain": [
              "       symboling  wheelbase  carlength  ...  peakrpm  citympg  highwaympg\n",
              "count    205.000    205.000    205.000  ...  205.000  205.000     205.000\n",
              "mean       0.834     98.757    174.049  ... 5125.122   25.220      30.751\n",
              "std        1.245      6.022     12.337  ...  476.986    6.542       6.886\n",
              "min       -2.000     86.600    141.100  ... 4150.000   13.000      16.000\n",
              "25%        0.000     94.500    166.300  ... 4800.000   19.000      25.000\n",
              "50%        1.000     97.000    173.200  ... 5200.000   24.000      30.000\n",
              "75%        2.000    102.400    183.100  ... 5500.000   30.000      34.000\n",
              "max        3.000    120.900    208.100  ... 6600.000   49.000      54.000\n",
              "\n",
              "[8 rows x 14 columns]"
            ]
          },
          "metadata": {},
          "execution_count": 114
        }
      ]
    },
    {
      "cell_type": "code",
      "metadata": {
        "colab": {
          "base_uri": "https://localhost:8080/",
          "height": 558
        },
        "id": "KCdpjfb1mZTP",
        "outputId": "76afcf06-8e68-4f5c-8848-812e55f9ef29"
      },
      "source": [
        "plt.figure(figsize=(25,15))\n",
        "\n",
        "for i, column in enumerate(EDA_df[numerical].columns):\n",
        "    plt.subplot(5,5,i + 1)\n",
        "    sns.histplot(data=EDA_df[numerical][column])\n",
        "    plt.title(column)\n",
        "plt.tight_layout()\n",
        "plt.show()"
      ],
      "execution_count": null,
      "outputs": [
        {
          "output_type": "display_data",
          "data": {
            "image/png": "[encoded data removed]",
            "text/plain": [
              "<Figure size 1800x1080 with 14 Axes>"
            ]
          },
          "metadata": {
            "needs_background": "light"
          }
        }
      ]
    },
    {
      "cell_type": "code",
      "metadata": {
        "colab": {
          "base_uri": "https://localhost:8080/"
        },
        "id": "lGCa81-Fm792",
        "outputId": "22140a2e-828f-4c20-b3d8-388c2d010dd4"
      },
      "source": [
        "skew_limit = 0.75 # This is our threshold-limit to evaluate skewness. Overall below abs(1) seems acceptable for the linear models. \n",
        "skew_vals = EDA_df[numerical].skew()\n",
        "skew_cols= skew_vals[abs(skew_vals)> skew_limit].sort_values(ascending=False)\n",
        "skew_cols"
      ],
      "execution_count": null,
      "outputs": [
        {
          "output_type": "execute_result",
          "data": {
            "text/plain": [
              "compressionratio   2.611\n",
              "enginesize         1.948\n",
              "horsepower         1.405\n",
              "wheelbase          1.050\n",
              "carwidth           0.904\n",
              "dtype: float64"
            ]
          },
          "metadata": {},
          "execution_count": 116
        }
      ]
    },
    {
      "cell_type": "code",
      "metadata": {
        "colab": {
          "base_uri": "https://localhost:8080/",
          "height": 265
        },
        "id": "SaFs_twloXWf",
        "outputId": "0cd46d6b-d00e-4243-b616-026d897b44fd"
      },
      "source": [
        "EDA_df[skew_cols.index].plot(kind='hist');"
      ],
      "execution_count": null,
      "outputs": [
        {
          "output_type": "display_data",
          "data": {
            "image/png": "[encoded data removed]",
            "text/plain": [
              "<Figure size 432x288 with 1 Axes>"
            ]
          },
          "metadata": {
            "needs_background": "light"
          }
        }
      ]
    },
    {
      "cell_type": "code",
      "metadata": {
        "colab": {
          "base_uri": "https://localhost:8080/",
          "height": 558
        },
        "id": "vaBCQ4ZJomAx",
        "outputId": "91b0925c-b70f-48fe-e71f-343625b99d5c"
      },
      "source": [
        "plt.figure(figsize=(25,15))\n",
        "\n",
        "for i, column in enumerate(EDA_df[skew_cols.index].columns):\n",
        "    plt.subplot(5,2,i + 1)\n",
        "    sns.histplot(data=EDA_df[skew_cols.index][column])\n",
        "    plt.title(column)\n",
        "\n",
        "plt.tight_layout()\n",
        "plt.show()"
      ],
      "execution_count": null,
      "outputs": [
        {
          "output_type": "display_data",
          "data": {
            "image/png": "[encoded data removed]",
            "text/plain": [
              "<Figure size 1800x1080 with 5 Axes>"
            ]
          },
          "metadata": {
            "needs_background": "light"
          }
        }
      ]
    },
    {
      "cell_type": "code",
      "metadata": {
        "colab": {
          "base_uri": "https://localhost:8080/"
        },
        "id": "zA_-3dH6H-30",
        "outputId": "307aa61a-8d41-42a4-fa96-2986d60b3191"
      },
      "source": [
        "from sklearn.preprocessing import PowerTransformer\n",
        "pt = PowerTransformer()\n",
        "\n",
        "df_trans = EDA_df[skew_cols.index].copy()\n",
        "\n",
        "trans= pt.fit_transform(df_trans)\n",
        "df_trans = pd.DataFrame(trans, columns =skew_cols.index )\n",
        "print(df_trans.skew())"
      ],
      "execution_count": null,
      "outputs": [
        {
          "output_type": "stream",
          "name": "stdout",
          "text": [
            "compressionratio    0.034\n",
            "enginesize         -0.003\n",
            "horsepower          0.049\n",
            "wheelbase          -0.003\n",
            "carwidth            0.108\n",
            "dtype: float64\n"
          ]
        }
      ]
    },
    {
      "cell_type": "code",
      "metadata": {
        "colab": {
          "base_uri": "https://localhost:8080/",
          "height": 563
        },
        "id": "7T59Xj7FRdwO",
        "outputId": "fef4cba6-f494-4b59-8363-591d02e9e537"
      },
      "source": [
        "plt.figure(figsize=(16, 8))\n",
        "sns.heatmap(data=EDA_df.corr(), annot=True);"
      ],
      "execution_count": null,
      "outputs": [
        {
          "output_type": "display_data",
          "data": {
            "image/png": "[encoded data removed]",
            "text/plain": [
              "<Figure size 1152x576 with 2 Axes>"
            ]
          },
          "metadata": {
            "needs_background": "light"
          }
        }
      ]
    },
    {
      "cell_type": "code",
      "metadata": {
        "id": "aCG_grvYS9gc"
      },
      "source": [
        "# citympg is similar to highwaympg, so we decide to take highwaympg as more people buy car will tends to travel far\n",
        "EDA_df.drop(\"citympg\", axis=1, inplace=True)\n"
      ],
      "execution_count": null,
      "outputs": []
    },
    {
      "cell_type": "code",
      "metadata": {
        "colab": {
          "base_uri": "https://localhost:8080/",
          "height": 275
        },
        "id": "KFKflXQfTGDe",
        "outputId": "b4d920e9-064f-4671-fc1c-99ef4a1bc733"
      },
      "source": [
        "EDA_df.head()"
      ],
      "execution_count": null,
      "outputs": [
        {
          "output_type": "execute_result",
          "data": {
            "text/html": [
              "<div>\n",
              "<style scoped>\n",
              "    .dataframe tbody tr th:only-of-type {\n",
              "        vertical-align: middle;\n",
              "    }\n",
              "\n",
              "    .dataframe tbody tr th {\n",
              "        vertical-align: top;\n",
              "    }\n",
              "\n",
              "    .dataframe thead th {\n",
              "        text-align: right;\n",
              "    }\n",
              "</style>\n",
              "<table border=\"1\" class=\"dataframe\">\n",
              "  <thead>\n",
              "    <tr style=\"text-align: right;\">\n",
              "      <th></th>\n",
              "      <th>symboling</th>\n",
              "      <th>fueltype</th>\n",
              "      <th>aspiration</th>\n",
              "      <th>doornumber</th>\n",
              "      <th>carbody</th>\n",
              "      <th>drivewheel</th>\n",
              "      <th>enginelocation</th>\n",
              "      <th>wheelbase</th>\n",
              "      <th>carlength</th>\n",
              "      <th>carwidth</th>\n",
              "      <th>carheight</th>\n",
              "      <th>curbweight</th>\n",
              "      <th>enginetype</th>\n",
              "      <th>cylindernumber</th>\n",
              "      <th>enginesize</th>\n",
              "      <th>fuelsystem</th>\n",
              "      <th>boreratio</th>\n",
              "      <th>stroke</th>\n",
              "      <th>compressionratio</th>\n",
              "      <th>horsepower</th>\n",
              "      <th>peakrpm</th>\n",
              "      <th>highwaympg</th>\n",
              "      <th>price</th>\n",
              "      <th>Company</th>\n",
              "    </tr>\n",
              "  </thead>\n",
              "  <tbody>\n",
              "    <tr>\n",
              "      <th>0</th>\n",
              "      <td>3</td>\n",
              "      <td>gas</td>\n",
              "      <td>std</td>\n",
              "      <td>two</td>\n",
              "      <td>convertible</td>\n",
              "      <td>rwd</td>\n",
              "      <td>front</td>\n",
              "      <td>88.600</td>\n",
              "      <td>168.800</td>\n",
              "      <td>64.100</td>\n",
              "      <td>48.800</td>\n",
              "      <td>2548</td>\n",
              "      <td>dohc</td>\n",
              "      <td>four</td>\n",
              "      <td>130</td>\n",
              "      <td>mpfi</td>\n",
              "      <td>3.470</td>\n",
              "      <td>2.680</td>\n",
              "      <td>9.000</td>\n",
              "      <td>111</td>\n",
              "      <td>5000</td>\n",
              "      <td>27</td>\n",
              "      <td>13495.000</td>\n",
              "      <td>alfa-romero</td>\n",
              "    </tr>\n",
              "    <tr>\n",
              "      <th>1</th>\n",
              "      <td>3</td>\n",
              "      <td>gas</td>\n",
              "      <td>std</td>\n",
              "      <td>two</td>\n",
              "      <td>convertible</td>\n",
              "      <td>rwd</td>\n",
              "      <td>front</td>\n",
              "      <td>88.600</td>\n",
              "      <td>168.800</td>\n",
              "      <td>64.100</td>\n",
              "      <td>48.800</td>\n",
              "      <td>2548</td>\n",
              "      <td>dohc</td>\n",
              "      <td>four</td>\n",
              "      <td>130</td>\n",
              "      <td>mpfi</td>\n",
              "      <td>3.470</td>\n",
              "      <td>2.680</td>\n",
              "      <td>9.000</td>\n",
              "      <td>111</td>\n",
              "      <td>5000</td>\n",
              "      <td>27</td>\n",
              "      <td>16500.000</td>\n",
              "      <td>alfa-romero</td>\n",
              "    </tr>\n",
              "    <tr>\n",
              "      <th>2</th>\n",
              "      <td>1</td>\n",
              "      <td>gas</td>\n",
              "      <td>std</td>\n",
              "      <td>two</td>\n",
              "      <td>hatchback</td>\n",
              "      <td>rwd</td>\n",
              "      <td>front</td>\n",
              "      <td>94.500</td>\n",
              "      <td>171.200</td>\n",
              "      <td>65.500</td>\n",
              "      <td>52.400</td>\n",
              "      <td>2823</td>\n",
              "      <td>ohcv</td>\n",
              "      <td>six</td>\n",
              "      <td>152</td>\n",
              "      <td>mpfi</td>\n",
              "      <td>2.680</td>\n",
              "      <td>3.470</td>\n",
              "      <td>9.000</td>\n",
              "      <td>154</td>\n",
              "      <td>5000</td>\n",
              "      <td>26</td>\n",
              "      <td>16500.000</td>\n",
              "      <td>alfa-romero</td>\n",
              "    </tr>\n",
              "    <tr>\n",
              "      <th>3</th>\n",
              "      <td>2</td>\n",
              "      <td>gas</td>\n",
              "      <td>std</td>\n",
              "      <td>four</td>\n",
              "      <td>sedan</td>\n",
              "      <td>fwd</td>\n",
              "      <td>front</td>\n",
              "      <td>99.800</td>\n",
              "      <td>176.600</td>\n",
              "      <td>66.200</td>\n",
              "      <td>54.300</td>\n",
              "      <td>2337</td>\n",
              "      <td>ohc</td>\n",
              "      <td>four</td>\n",
              "      <td>109</td>\n",
              "      <td>mpfi</td>\n",
              "      <td>3.190</td>\n",
              "      <td>3.400</td>\n",
              "      <td>10.000</td>\n",
              "      <td>102</td>\n",
              "      <td>5500</td>\n",
              "      <td>30</td>\n",
              "      <td>13950.000</td>\n",
              "      <td>audi</td>\n",
              "    </tr>\n",
              "    <tr>\n",
              "      <th>4</th>\n",
              "      <td>2</td>\n",
              "      <td>gas</td>\n",
              "      <td>std</td>\n",
              "      <td>four</td>\n",
              "      <td>sedan</td>\n",
              "      <td>4wd</td>\n",
              "      <td>front</td>\n",
              "      <td>99.400</td>\n",
              "      <td>176.600</td>\n",
              "      <td>66.400</td>\n",
              "      <td>54.300</td>\n",
              "      <td>2824</td>\n",
              "      <td>ohc</td>\n",
              "      <td>five</td>\n",
              "      <td>136</td>\n",
              "      <td>mpfi</td>\n",
              "      <td>3.190</td>\n",
              "      <td>3.400</td>\n",
              "      <td>8.000</td>\n",
              "      <td>115</td>\n",
              "      <td>5500</td>\n",
              "      <td>22</td>\n",
              "      <td>17450.000</td>\n",
              "      <td>audi</td>\n",
              "    </tr>\n",
              "  </tbody>\n",
              "</table>\n",
              "</div>"
            ],
            "text/plain": [
              "   symboling fueltype aspiration  ... highwaympg     price      Company\n",
              "0          3      gas        std  ...         27 13495.000  alfa-romero\n",
              "1          3      gas        std  ...         27 16500.000  alfa-romero\n",
              "2          1      gas        std  ...         26 16500.000  alfa-romero\n",
              "3          2      gas        std  ...         30 13950.000         audi\n",
              "4          2      gas        std  ...         22 17450.000         audi\n",
              "\n",
              "[5 rows x 24 columns]"
            ]
          },
          "metadata": {},
          "execution_count": 160
        }
      ]
    },
    {
      "cell_type": "code",
      "metadata": {
        "colab": {
          "base_uri": "https://localhost:8080/"
        },
        "id": "6Ue5UhSaTTgw",
        "outputId": "94ad7229-c5b5-4811-f018-0ed62a34a644"
      },
      "source": [
        "EDA_df.fueltype.unique()"
      ],
      "execution_count": null,
      "outputs": [
        {
          "output_type": "execute_result",
          "data": {
            "text/plain": [
              "array(['gas', 'diesel'], dtype=object)"
            ]
          },
          "metadata": {},
          "execution_count": 161
        }
      ]
    },
    {
      "cell_type": "code",
      "metadata": {
        "colab": {
          "base_uri": "https://localhost:8080/",
          "height": 367
        },
        "id": "aYhca3GgTnpk",
        "outputId": "f162ac2f-ff66-4f0f-a143-e83cf76f7060"
      },
      "source": [
        "\n",
        "print(EDA_df.groupby(\"fueltype\").price.mean())\n",
        "EDA_df.groupby(\"fueltype\").price.mean().plot(kind=\"hist\", subplots=True, bins=50)"
      ],
      "execution_count": null,
      "outputs": [
        {
          "output_type": "stream",
          "name": "stdout",
          "text": [
            "fueltype\n",
            "diesel   15838.150\n",
            "gas      12999.798\n",
            "Name: price, dtype: float64\n"
          ]
        },
        {
          "output_type": "execute_result",
          "data": {
            "text/plain": [
              "array([<matplotlib.axes._subplots.AxesSubplot object at 0x7efdb693bb90>],\n",
              "      dtype=object)"
            ]
          },
          "metadata": {},
          "execution_count": 162
        },
        {
          "output_type": "display_data",
          "data": {
            "image/png": "[encoded data removed]",
            "text/plain": [
              "<Figure size 432x288 with 1 Axes>"
            ]
          },
          "metadata": {
            "needs_background": "light"
          }
        }
      ]
    },
    {
      "cell_type": "markdown",
      "metadata": {
        "id": "ic-rUinXYQlL"
      },
      "source": [
        "Diesel cars are more expensive than cars with gas"
      ]
    },
    {
      "cell_type": "code",
      "metadata": {
        "colab": {
          "base_uri": "https://localhost:8080/",
          "height": 367
        },
        "id": "4K9Oo08cWXr3",
        "outputId": "3488d300-926a-4ccc-be8b-00a0c4750617"
      },
      "source": [
        "print(EDA_df.groupby(\"aspiration\").price.mean())\n",
        "EDA_df.groupby(\"aspiration\").price.mean().plot(kind=\"hist\", subplots=True, bins=50)"
      ],
      "execution_count": null,
      "outputs": [
        {
          "output_type": "stream",
          "name": "stdout",
          "text": [
            "aspiration\n",
            "std     12611.271\n",
            "turbo   16298.167\n",
            "Name: price, dtype: float64\n"
          ]
        },
        {
          "output_type": "execute_result",
          "data": {
            "text/plain": [
              "array([<matplotlib.axes._subplots.AxesSubplot object at 0x7efdc0e87ed0>],\n",
              "      dtype=object)"
            ]
          },
          "metadata": {},
          "execution_count": 126
        },
        {
          "output_type": "display_data",
          "data": {
            "image/png": "[encoded data removed]",
            "text/plain": [
              "<Figure size 432x288 with 1 Axes>"
            ]
          },
          "metadata": {
            "needs_background": "light"
          }
        }
      ]
    },
    {
      "cell_type": "markdown",
      "metadata": {
        "id": "pB5uRgvBXmrR"
      },
      "source": [
        "Turbo engine is much more expensive than cars with gas"
      ]
    },
    {
      "cell_type": "code",
      "metadata": {
        "colab": {
          "base_uri": "https://localhost:8080/"
        },
        "id": "VeX-giwVWg4E",
        "outputId": "17d542d7-aeb1-4b3e-c781-573cdcc43961"
      },
      "source": [
        "EDA_df.doornumber.unique()"
      ],
      "execution_count": null,
      "outputs": [
        {
          "output_type": "execute_result",
          "data": {
            "text/plain": [
              "array(['two', 'four'], dtype=object)"
            ]
          },
          "metadata": {},
          "execution_count": 127
        }
      ]
    },
    {
      "cell_type": "code",
      "metadata": {
        "colab": {
          "base_uri": "https://localhost:8080/",
          "height": 367
        },
        "id": "aqBxAUO9WkZE",
        "outputId": "4871567a-697a-4a64-b029-d8a7b7099ba9"
      },
      "source": [
        "print(EDA_df.groupby(\"doornumber\").price.mean())\n",
        "EDA_df.groupby(\"doornumber\").price.mean().plot(kind=\"hist\", subplots=True, bins=50)"
      ],
      "execution_count": null,
      "outputs": [
        {
          "output_type": "stream",
          "name": "stdout",
          "text": [
            "doornumber\n",
            "four   13501.152\n",
            "two    12989.924\n",
            "Name: price, dtype: float64\n"
          ]
        },
        {
          "output_type": "execute_result",
          "data": {
            "text/plain": [
              "array([<matplotlib.axes._subplots.AxesSubplot object at 0x7efdc0042250>],\n",
              "      dtype=object)"
            ]
          },
          "metadata": {},
          "execution_count": 128
        },
        {
          "output_type": "display_data",
          "data": {
            "image/png": "[encoded data removed]",
            "text/plain": [
              "<Figure size 432x288 with 1 Axes>"
            ]
          },
          "metadata": {
            "needs_background": "light"
          }
        }
      ]
    },
    {
      "cell_type": "markdown",
      "metadata": {
        "id": "YspfjDFOdx-l"
      },
      "source": [
        "Four door slightly expensive than two door"
      ]
    },
    {
      "cell_type": "code",
      "metadata": {
        "colab": {
          "base_uri": "https://localhost:8080/"
        },
        "id": "uW5-E9ESWpRJ",
        "outputId": "ff0a48a2-510a-4b34-d893-bcd23d358cc0"
      },
      "source": [
        "EDA_df.carbody.unique()"
      ],
      "execution_count": null,
      "outputs": [
        {
          "output_type": "execute_result",
          "data": {
            "text/plain": [
              "array(['convertible', 'hatchback', 'sedan', 'wagon', 'hardtop'],\n",
              "      dtype=object)"
            ]
          },
          "metadata": {},
          "execution_count": 129
        }
      ]
    },
    {
      "cell_type": "code",
      "metadata": {
        "colab": {
          "base_uri": "https://localhost:8080/",
          "height": 418
        },
        "id": "t45BNTknWsdl",
        "outputId": "04c1a686-88d2-4d8b-db61-09e29470db46"
      },
      "source": [
        "print(EDA_df.groupby(\"carbody\").price.mean().sort_values())\n",
        "EDA_df.groupby(\"carbody\").price.mean().plot(kind=\"hist\", subplots=True, bins=50)"
      ],
      "execution_count": null,
      "outputs": [
        {
          "output_type": "stream",
          "name": "stdout",
          "text": [
            "carbody\n",
            "hatchback     10376.652\n",
            "wagon         12371.960\n",
            "sedan         14344.271\n",
            "convertible   21890.500\n",
            "hardtop       22208.500\n",
            "Name: price, dtype: float64\n"
          ]
        },
        {
          "output_type": "execute_result",
          "data": {
            "text/plain": [
              "array([<matplotlib.axes._subplots.AxesSubplot object at 0x7efdc0dbb590>],\n",
              "      dtype=object)"
            ]
          },
          "metadata": {},
          "execution_count": 130
        },
        {
          "output_type": "display_data",
          "data": {
            "image/png": "[encoded data removed]",
            "text/plain": [
              "<Figure size 432x288 with 1 Axes>"
            ]
          },
          "metadata": {
            "needs_background": "light"
          }
        }
      ]
    },
    {
      "cell_type": "markdown",
      "metadata": {
        "id": "_RmKuNHpen4H"
      },
      "source": [
        "Most expensive range are the additional function that allow the car roof to be convertible either hardtop or soft-top. "
      ]
    },
    {
      "cell_type": "code",
      "metadata": {
        "colab": {
          "base_uri": "https://localhost:8080/"
        },
        "id": "x0uBZ5wocjfk",
        "outputId": "3a628db1-41bf-47e4-efa2-d031653595f0"
      },
      "source": [
        "EDA_df.drivewheel.unique()"
      ],
      "execution_count": null,
      "outputs": [
        {
          "output_type": "execute_result",
          "data": {
            "text/plain": [
              "array(['rwd', 'fwd', '4wd'], dtype=object)"
            ]
          },
          "metadata": {},
          "execution_count": 131
        }
      ]
    },
    {
      "cell_type": "code",
      "metadata": {
        "colab": {
          "base_uri": "https://localhost:8080/",
          "height": 384
        },
        "id": "g9vgj_u4cnFT",
        "outputId": "46fec93b-c276-4424-a869-1045a2ade67c"
      },
      "source": [
        "print(EDA_df.groupby(\"drivewheel\").price.mean().sort_values())\n",
        "EDA_df.groupby(\"drivewheel\").price.mean().plot(kind=\"hist\", subplots=True, bins=50)"
      ],
      "execution_count": null,
      "outputs": [
        {
          "output_type": "stream",
          "name": "stdout",
          "text": [
            "drivewheel\n",
            "fwd    9239.308\n",
            "4wd   11087.463\n",
            "rwd   19910.809\n",
            "Name: price, dtype: float64\n"
          ]
        },
        {
          "output_type": "execute_result",
          "data": {
            "text/plain": [
              "array([<matplotlib.axes._subplots.AxesSubplot object at 0x7efdc1135e50>],\n",
              "      dtype=object)"
            ]
          },
          "metadata": {},
          "execution_count": 132
        },
        {
          "output_type": "display_data",
          "data": {
            "image/png": "[encoded data removed]",
            "text/plain": [
              "<Figure size 432x288 with 1 Axes>"
            ]
          },
          "metadata": {
            "needs_background": "light"
          }
        }
      ]
    },
    {
      "cell_type": "markdown",
      "metadata": {
        "id": "SDtt1lB-fzrH"
      },
      "source": [
        "Rear wheel drive car most expensive ones. they are likely most sports cars, sports sedans & muscle cars are rear-wheel drive"
      ]
    },
    {
      "cell_type": "code",
      "metadata": {
        "colab": {
          "base_uri": "https://localhost:8080/"
        },
        "id": "VPOSJQ9NcrV_",
        "outputId": "b3b91a38-c44a-4411-b82c-dbd1b3b95d44"
      },
      "source": [
        "EDA_df.enginelocation.unique()"
      ],
      "execution_count": null,
      "outputs": [
        {
          "output_type": "execute_result",
          "data": {
            "text/plain": [
              "array(['front', 'rear'], dtype=object)"
            ]
          },
          "metadata": {},
          "execution_count": 133
        }
      ]
    },
    {
      "cell_type": "code",
      "metadata": {
        "colab": {
          "base_uri": "https://localhost:8080/",
          "height": 367
        },
        "id": "QVcu_LTdcvqW",
        "outputId": "1b0c7286-8520-4629-f972-e8751da82cda"
      },
      "source": [
        "print(EDA_df.groupby(\"enginelocation\").price.mean())\n",
        "EDA_df.groupby(\"enginelocation\").price.mean().plot(kind=\"hist\", subplots=True, bins=50)"
      ],
      "execution_count": null,
      "outputs": [
        {
          "output_type": "stream",
          "name": "stdout",
          "text": [
            "enginelocation\n",
            "front   12961.097\n",
            "rear    34528.000\n",
            "Name: price, dtype: float64\n"
          ]
        },
        {
          "output_type": "execute_result",
          "data": {
            "text/plain": [
              "array([<matplotlib.axes._subplots.AxesSubplot object at 0x7efdc0129a50>],\n",
              "      dtype=object)"
            ]
          },
          "metadata": {},
          "execution_count": 134
        },
        {
          "output_type": "display_data",
          "data": {
            "image/png": "[encoded data removed]",
            "text/plain": [
              "<Figure size 432x288 with 1 Axes>"
            ]
          },
          "metadata": {
            "needs_background": "light"
          }
        }
      ]
    },
    {
      "cell_type": "markdown",
      "metadata": {
        "id": "xVlpJIbpf8Dc"
      },
      "source": [
        "Rear enginer car most expensive ones. they are likely most sports cars that rear-wheel drive and another reason is to balance the power of the car from spinning."
      ]
    },
    {
      "cell_type": "code",
      "metadata": {
        "colab": {
          "base_uri": "https://localhost:8080/"
        },
        "id": "iJuXLxELgUrP",
        "outputId": "1232c325-60ea-4e7c-f262-4ce9f82cfdfd"
      },
      "source": [
        "EDA_df.enginetype.unique()"
      ],
      "execution_count": null,
      "outputs": [
        {
          "output_type": "execute_result",
          "data": {
            "text/plain": [
              "array(['dohc', 'ohcv', 'ohc', 'l', 'rotor', 'ohcf', 'dohcv'], dtype=object)"
            ]
          },
          "metadata": {},
          "execution_count": 135
        }
      ]
    },
    {
      "cell_type": "code",
      "metadata": {
        "colab": {
          "base_uri": "https://localhost:8080/",
          "height": 452
        },
        "id": "rbm721vsge5N",
        "outputId": "fb4efe92-2a80-42f5-c623-a6a1c1aed613"
      },
      "source": [
        "print(EDA_df.groupby(\"enginetype\").price.mean().sort_values())\n",
        "EDA_df.groupby(\"enginetype\").price.mean().plot(kind=\"hist\", subplots=True, bins=50)"
      ],
      "execution_count": null,
      "outputs": [
        {
          "output_type": "stream",
          "name": "stdout",
          "text": [
            "enginetype\n",
            "ohc     11574.048\n",
            "rotor   13020.000\n",
            "ohcf    13738.600\n",
            "l       14627.583\n",
            "dohc    18116.417\n",
            "ohcv    25098.385\n",
            "dohcv   31400.500\n",
            "Name: price, dtype: float64\n"
          ]
        },
        {
          "output_type": "execute_result",
          "data": {
            "text/plain": [
              "array([<matplotlib.axes._subplots.AxesSubplot object at 0x7efdc0ad4c50>],\n",
              "      dtype=object)"
            ]
          },
          "metadata": {},
          "execution_count": 136
        },
        {
          "output_type": "display_data",
          "data": {
            "image/png": "[encoded data removed]",
            "text/plain": [
              "<Figure size 432x288 with 1 Axes>"
            ]
          },
          "metadata": {
            "needs_background": "light"
          }
        }
      ]
    },
    {
      "cell_type": "markdown",
      "metadata": {
        "id": "lqh-XKPvhGKm"
      },
      "source": [
        "DOHC engine design is the most fuel-efficient and this may increase the car price"
      ]
    },
    {
      "cell_type": "code",
      "metadata": {
        "colab": {
          "base_uri": "https://localhost:8080/"
        },
        "id": "6wrMdDxykoXi",
        "outputId": "02d9e078-98ab-4767-9a84-df6503b1c16a"
      },
      "source": [
        "EDA_df.cylindernumber.unique()"
      ],
      "execution_count": null,
      "outputs": [
        {
          "output_type": "execute_result",
          "data": {
            "text/plain": [
              "array(['four', 'six', 'five', 'three', 'twelve', 'two', 'eight'],\n",
              "      dtype=object)"
            ]
          },
          "metadata": {},
          "execution_count": 137
        }
      ]
    },
    {
      "cell_type": "code",
      "metadata": {
        "colab": {
          "base_uri": "https://localhost:8080/",
          "height": 452
        },
        "id": "86sU8wqHks6-",
        "outputId": "453a5246-e60f-41a5-da10-f8550cc17596"
      },
      "source": [
        "print(EDA_df.groupby(\"cylindernumber\").price.mean().sort_values())\n",
        "EDA_df.groupby(\"cylindernumber\").price.mean().plot(kind=\"hist\", subplots=True, bins=50)"
      ],
      "execution_count": null,
      "outputs": [
        {
          "output_type": "stream",
          "name": "stdout",
          "text": [
            "cylindernumber\n",
            "three     5151.000\n",
            "four     10285.755\n",
            "two      13020.000\n",
            "five     21630.470\n",
            "six      23671.833\n",
            "twelve   36000.000\n",
            "eight    37400.100\n",
            "Name: price, dtype: float64\n"
          ]
        },
        {
          "output_type": "execute_result",
          "data": {
            "text/plain": [
              "array([<matplotlib.axes._subplots.AxesSubplot object at 0x7efdc0b50310>],\n",
              "      dtype=object)"
            ]
          },
          "metadata": {},
          "execution_count": 138
        },
        {
          "output_type": "display_data",
          "data": {
            "image/png": "[encoded data removed]",
            "text/plain": [
              "<Figure size 432x288 with 1 Axes>"
            ]
          },
          "metadata": {
            "needs_background": "light"
          }
        }
      ]
    },
    {
      "cell_type": "markdown",
      "metadata": {
        "id": "zBNOtv5mky38"
      },
      "source": [
        "the Higher the cylinder number, it show the car are more powerful and will also significant price increases"
      ]
    },
    {
      "cell_type": "code",
      "metadata": {
        "colab": {
          "base_uri": "https://localhost:8080/"
        },
        "id": "M2tG_-YZlLgi",
        "outputId": "7bb0446c-2004-404e-c74a-e7de76d81cb7"
      },
      "source": [
        "EDA_df.fuelsystem.unique()"
      ],
      "execution_count": null,
      "outputs": [
        {
          "output_type": "execute_result",
          "data": {
            "text/plain": [
              "array(['mpfi', '2bbl', 'mfi', '1bbl', 'spfi', '4bbl', 'idi', 'spdi'],\n",
              "      dtype=object)"
            ]
          },
          "metadata": {},
          "execution_count": 139
        }
      ]
    },
    {
      "cell_type": "code",
      "metadata": {
        "colab": {
          "base_uri": "https://localhost:8080/",
          "height": 469
        },
        "id": "INt-VDhjlQVv",
        "outputId": "2ba54873-cd53-4615-bc00-ad7c88fb675e"
      },
      "source": [
        "print(EDA_df.groupby(\"fuelsystem\").price.mean().sort_values())\n",
        "EDA_df.groupby(\"fuelsystem\").price.mean().plot(kind=\"hist\", subplots=True, bins=50)"
      ],
      "execution_count": null,
      "outputs": [
        {
          "output_type": "stream",
          "name": "stdout",
          "text": [
            "fuelsystem\n",
            "2bbl    7478.152\n",
            "1bbl    7555.545\n",
            "spdi   10990.444\n",
            "spfi   11048.000\n",
            "4bbl   12145.000\n",
            "mfi    12964.000\n",
            "idi    15838.150\n",
            "mpfi   17754.603\n",
            "Name: price, dtype: float64\n"
          ]
        },
        {
          "output_type": "execute_result",
          "data": {
            "text/plain": [
              "array([<matplotlib.axes._subplots.AxesSubplot object at 0x7efdc0f75450>],\n",
              "      dtype=object)"
            ]
          },
          "metadata": {},
          "execution_count": 140
        },
        {
          "output_type": "display_data",
          "data": {
            "image/png": "[encoded data removed]",
            "text/plain": [
              "<Figure size 432x288 with 1 Axes>"
            ]
          },
          "metadata": {
            "needs_background": "light"
          }
        }
      ]
    },
    {
      "cell_type": "markdown",
      "metadata": {
        "id": "eKfzh2fyl2JY"
      },
      "source": [
        "High performance car will have better specs and this will affect the price on the car. Common use in the standard car specs are the 2BBL and 1BBL"
      ]
    },
    {
      "cell_type": "code",
      "metadata": {
        "colab": {
          "base_uri": "https://localhost:8080/"
        },
        "id": "PiCwAEEhmhIX",
        "outputId": "4568f24c-9071-44ed-ab1a-11a0921fab0d"
      },
      "source": [
        "EDA_df.Company.unique()"
      ],
      "execution_count": null,
      "outputs": [
        {
          "output_type": "execute_result",
          "data": {
            "text/plain": [
              "array(['alfa-romero', 'audi', 'bmw', 'chevrolet', 'dodge', 'honda',\n",
              "       'isuzu', 'jaguar', 'mazda', 'buick', 'mercury', 'mitsubishi',\n",
              "       'nissan', 'peugeot', 'plymouth', 'porsche', 'renault', 'saab',\n",
              "       'subaru', 'toyota', 'volkswagen', 'volvo'], dtype=object)"
            ]
          },
          "metadata": {},
          "execution_count": 141
        }
      ]
    },
    {
      "cell_type": "code",
      "metadata": {
        "colab": {
          "base_uri": "https://localhost:8080/",
          "height": 707
        },
        "id": "Scu2Ov9dmsmv",
        "outputId": "0f669143-286b-429c-9312-afe543fc5b3b"
      },
      "source": [
        "print(EDA_df.groupby(\"Company\").price.mean().sort_values())\n",
        "EDA_df.groupby(\"Company\").price.mean().plot(kind=\"hist\", subplots=True, bins=50)"
      ],
      "execution_count": null,
      "outputs": [
        {
          "output_type": "stream",
          "name": "stdout",
          "text": [
            "Company\n",
            "chevrolet      6007.000\n",
            "dodge          7875.444\n",
            "plymouth       7963.429\n",
            "honda          8184.692\n",
            "subaru         8541.250\n",
            "isuzu          8916.500\n",
            "mitsubishi     9239.769\n",
            "renault        9595.000\n",
            "toyota         9885.812\n",
            "volkswagen    10077.500\n",
            "nissan        10415.667\n",
            "mazda         10652.882\n",
            "saab          15223.333\n",
            "peugeot       15489.091\n",
            "alfa-romero   15498.333\n",
            "mercury       16503.000\n",
            "audi          17859.167\n",
            "volvo         18063.182\n",
            "bmw           26118.750\n",
            "porsche       31400.500\n",
            "buick         33647.000\n",
            "jaguar        34600.000\n",
            "Name: price, dtype: float64\n"
          ]
        },
        {
          "output_type": "execute_result",
          "data": {
            "text/plain": [
              "array([<matplotlib.axes._subplots.AxesSubplot object at 0x7efdc0b4f7d0>],\n",
              "      dtype=object)"
            ]
          },
          "metadata": {},
          "execution_count": 142
        },
        {
          "output_type": "display_data",
          "data": {
            "image/png": "[encoded data removed]",
            "text/plain": [
              "<Figure size 432x288 with 1 Axes>"
            ]
          },
          "metadata": {
            "needs_background": "light"
          }
        }
      ]
    },
    {
      "cell_type": "markdown",
      "metadata": {
        "id": "rGGGvu8dtkwr"
      },
      "source": [
        "Top 6 expensive brand are mostly europe car maker & only one USA car maker"
      ]
    },
    {
      "cell_type": "markdown",
      "metadata": {
        "id": "T_NDtY1rrCgl"
      },
      "source": [
        "Data processing"
      ]
    },
    {
      "cell_type": "code",
      "metadata": {
        "id": "fAan77rSrFsH"
      },
      "source": [
        "# Import libraries required\n",
        "from sklearn.linear_model import LinearRegression\n",
        "from sklearn.ensemble import RandomForestRegressor,GradientBoostingRegressor, ExtraTreesRegressor\n",
        "from sklearn.tree import DecisionTreeRegressor\n",
        "from sklearn.metrics import r2_score,mean_squared_error\n",
        "from sklearn.metrics import mean_squared_error, mean_absolute_error, r2_score \n",
        "from sklearn.model_selection import cross_val_score, cross_validate\n",
        "from sklearn.model_selection import GridSearchCV\n",
        "from sklearn.linear_model import Lasso, LassoCV, Ridge, RidgeCV, ElasticNet, ElasticNetCV\n",
        "from sklearn.feature_selection import SelectKBest,SelectPercentile,f_classif,f_regression,mutual_info_regression,mutual_info_classif,SelectFromModel,RFE\n",
        "\n",
        "from xgboost import XGBRegressor\n",
        "from xgboost import plot_importance\n",
        "\n",
        "from sklearn.metrics import accuracy_score, confusion_matrix, precision_score, recall_score\n",
        "from sklearn.model_selection import train_test_split\n",
        "from sklearn.preprocessing import StandardScaler,PolynomialFeatures, OneHotEncoder,StandardScaler,PowerTransformer, MinMaxScaler, RobustScaler"
      ],
      "execution_count": null,
      "outputs": []
    },
    {
      "cell_type": "code",
      "metadata": {
        "colab": {
          "base_uri": "https://localhost:8080/",
          "height": 224
        },
        "id": "Yrb8Mm5hqkCS",
        "outputId": "b412bf1d-40c7-4157-9869-d4dcdd9a7a6f"
      },
      "source": [
        "EDA_df1 = pd.get_dummies(EDA_df, columns=categorical, drop_first=True)\n",
        "EDA_df1.head()"
      ],
      "execution_count": null,
      "outputs": [
        {
          "output_type": "execute_result",
          "data": {
            "text/html": [
              "<div>\n",
              "<style scoped>\n",
              "    .dataframe tbody tr th:only-of-type {\n",
              "        vertical-align: middle;\n",
              "    }\n",
              "\n",
              "    .dataframe tbody tr th {\n",
              "        vertical-align: top;\n",
              "    }\n",
              "\n",
              "    .dataframe thead th {\n",
              "        text-align: right;\n",
              "    }\n",
              "</style>\n",
              "<table border=\"1\" class=\"dataframe\">\n",
              "  <thead>\n",
              "    <tr style=\"text-align: right;\">\n",
              "      <th></th>\n",
              "      <th>symboling</th>\n",
              "      <th>wheelbase</th>\n",
              "      <th>carlength</th>\n",
              "      <th>carwidth</th>\n",
              "      <th>carheight</th>\n",
              "      <th>curbweight</th>\n",
              "      <th>enginesize</th>\n",
              "      <th>boreratio</th>\n",
              "      <th>stroke</th>\n",
              "      <th>compressionratio</th>\n",
              "      <th>horsepower</th>\n",
              "      <th>peakrpm</th>\n",
              "      <th>highwaympg</th>\n",
              "      <th>price</th>\n",
              "      <th>fueltype_gas</th>\n",
              "      <th>aspiration_turbo</th>\n",
              "      <th>doornumber_two</th>\n",
              "      <th>carbody_hardtop</th>\n",
              "      <th>carbody_hatchback</th>\n",
              "      <th>carbody_sedan</th>\n",
              "      <th>carbody_wagon</th>\n",
              "      <th>drivewheel_fwd</th>\n",
              "      <th>drivewheel_rwd</th>\n",
              "      <th>enginelocation_rear</th>\n",
              "      <th>enginetype_dohcv</th>\n",
              "      <th>enginetype_l</th>\n",
              "      <th>enginetype_ohc</th>\n",
              "      <th>enginetype_ohcf</th>\n",
              "      <th>enginetype_ohcv</th>\n",
              "      <th>enginetype_rotor</th>\n",
              "      <th>cylindernumber_five</th>\n",
              "      <th>cylindernumber_four</th>\n",
              "      <th>cylindernumber_six</th>\n",
              "      <th>cylindernumber_three</th>\n",
              "      <th>cylindernumber_twelve</th>\n",
              "      <th>cylindernumber_two</th>\n",
              "      <th>fuelsystem_2bbl</th>\n",
              "      <th>fuelsystem_4bbl</th>\n",
              "      <th>fuelsystem_idi</th>\n",
              "      <th>fuelsystem_mfi</th>\n",
              "      <th>fuelsystem_mpfi</th>\n",
              "      <th>fuelsystem_spdi</th>\n",
              "      <th>fuelsystem_spfi</th>\n",
              "      <th>Company_audi</th>\n",
              "      <th>Company_bmw</th>\n",
              "      <th>Company_buick</th>\n",
              "      <th>Company_chevrolet</th>\n",
              "      <th>Company_dodge</th>\n",
              "      <th>Company_honda</th>\n",
              "      <th>Company_isuzu</th>\n",
              "      <th>Company_jaguar</th>\n",
              "      <th>Company_mazda</th>\n",
              "      <th>Company_mercury</th>\n",
              "      <th>Company_mitsubishi</th>\n",
              "      <th>Company_nissan</th>\n",
              "      <th>Company_peugeot</th>\n",
              "      <th>Company_plymouth</th>\n",
              "      <th>Company_porsche</th>\n",
              "      <th>Company_renault</th>\n",
              "      <th>Company_saab</th>\n",
              "      <th>Company_subaru</th>\n",
              "      <th>Company_toyota</th>\n",
              "      <th>Company_volkswagen</th>\n",
              "      <th>Company_volvo</th>\n",
              "    </tr>\n",
              "  </thead>\n",
              "  <tbody>\n",
              "    <tr>\n",
              "      <th>0</th>\n",
              "      <td>3</td>\n",
              "      <td>88.600</td>\n",
              "      <td>168.800</td>\n",
              "      <td>64.100</td>\n",
              "      <td>48.800</td>\n",
              "      <td>2548</td>\n",
              "      <td>130</td>\n",
              "      <td>3.470</td>\n",
              "      <td>2.680</td>\n",
              "      <td>9.000</td>\n",
              "      <td>111</td>\n",
              "      <td>5000</td>\n",
              "      <td>27</td>\n",
              "      <td>13495.000</td>\n",
              "      <td>1</td>\n",
              "      <td>0</td>\n",
              "      <td>1</td>\n",
              "      <td>0</td>\n",
              "      <td>0</td>\n",
              "      <td>0</td>\n",
              "      <td>0</td>\n",
              "      <td>0</td>\n",
              "      <td>1</td>\n",
              "      <td>0</td>\n",
              "      <td>0</td>\n",
              "      <td>0</td>\n",
              "      <td>0</td>\n",
              "      <td>0</td>\n",
              "      <td>0</td>\n",
              "      <td>0</td>\n",
              "      <td>0</td>\n",
              "      <td>1</td>\n",
              "      <td>0</td>\n",
              "      <td>0</td>\n",
              "      <td>0</td>\n",
              "      <td>0</td>\n",
              "      <td>0</td>\n",
              "      <td>0</td>\n",
              "      <td>0</td>\n",
              "      <td>0</td>\n",
              "      <td>1</td>\n",
              "      <td>0</td>\n",
              "      <td>0</td>\n",
              "      <td>0</td>\n",
              "      <td>0</td>\n",
              "      <td>0</td>\n",
              "      <td>0</td>\n",
              "      <td>0</td>\n",
              "      <td>0</td>\n",
              "      <td>0</td>\n",
              "      <td>0</td>\n",
              "      <td>0</td>\n",
              "      <td>0</td>\n",
              "      <td>0</td>\n",
              "      <td>0</td>\n",
              "      <td>0</td>\n",
              "      <td>0</td>\n",
              "      <td>0</td>\n",
              "      <td>0</td>\n",
              "      <td>0</td>\n",
              "      <td>0</td>\n",
              "      <td>0</td>\n",
              "      <td>0</td>\n",
              "      <td>0</td>\n",
              "    </tr>\n",
              "    <tr>\n",
              "      <th>1</th>\n",
              "      <td>3</td>\n",
              "      <td>88.600</td>\n",
              "      <td>168.800</td>\n",
              "      <td>64.100</td>\n",
              "      <td>48.800</td>\n",
              "      <td>2548</td>\n",
              "      <td>130</td>\n",
              "      <td>3.470</td>\n",
              "      <td>2.680</td>\n",
              "      <td>9.000</td>\n",
              "      <td>111</td>\n",
              "      <td>5000</td>\n",
              "      <td>27</td>\n",
              "      <td>16500.000</td>\n",
              "      <td>1</td>\n",
              "      <td>0</td>\n",
              "      <td>1</td>\n",
              "      <td>0</td>\n",
              "      <td>0</td>\n",
              "      <td>0</td>\n",
              "      <td>0</td>\n",
              "      <td>0</td>\n",
              "      <td>1</td>\n",
              "      <td>0</td>\n",
              "      <td>0</td>\n",
              "      <td>0</td>\n",
              "      <td>0</td>\n",
              "      <td>0</td>\n",
              "      <td>0</td>\n",
              "      <td>0</td>\n",
              "      <td>0</td>\n",
              "      <td>1</td>\n",
              "      <td>0</td>\n",
              "      <td>0</td>\n",
              "      <td>0</td>\n",
              "      <td>0</td>\n",
              "      <td>0</td>\n",
              "      <td>0</td>\n",
              "      <td>0</td>\n",
              "      <td>0</td>\n",
              "      <td>1</td>\n",
              "      <td>0</td>\n",
              "      <td>0</td>\n",
              "      <td>0</td>\n",
              "      <td>0</td>\n",
              "      <td>0</td>\n",
              "      <td>0</td>\n",
              "      <td>0</td>\n",
              "      <td>0</td>\n",
              "      <td>0</td>\n",
              "      <td>0</td>\n",
              "      <td>0</td>\n",
              "      <td>0</td>\n",
              "      <td>0</td>\n",
              "      <td>0</td>\n",
              "      <td>0</td>\n",
              "      <td>0</td>\n",
              "      <td>0</td>\n",
              "      <td>0</td>\n",
              "      <td>0</td>\n",
              "      <td>0</td>\n",
              "      <td>0</td>\n",
              "      <td>0</td>\n",
              "      <td>0</td>\n",
              "    </tr>\n",
              "    <tr>\n",
              "      <th>2</th>\n",
              "      <td>1</td>\n",
              "      <td>94.500</td>\n",
              "      <td>171.200</td>\n",
              "      <td>65.500</td>\n",
              "      <td>52.400</td>\n",
              "      <td>2823</td>\n",
              "      <td>152</td>\n",
              "      <td>2.680</td>\n",
              "      <td>3.470</td>\n",
              "      <td>9.000</td>\n",
              "      <td>154</td>\n",
              "      <td>5000</td>\n",
              "      <td>26</td>\n",
              "      <td>16500.000</td>\n",
              "      <td>1</td>\n",
              "      <td>0</td>\n",
              "      <td>1</td>\n",
              "      <td>0</td>\n",
              "      <td>1</td>\n",
              "      <td>0</td>\n",
              "      <td>0</td>\n",
              "      <td>0</td>\n",
              "      <td>1</td>\n",
              "      <td>0</td>\n",
              "      <td>0</td>\n",
              "      <td>0</td>\n",
              "      <td>0</td>\n",
              "      <td>0</td>\n",
              "      <td>1</td>\n",
              "      <td>0</td>\n",
              "      <td>0</td>\n",
              "      <td>0</td>\n",
              "      <td>1</td>\n",
              "      <td>0</td>\n",
              "      <td>0</td>\n",
              "      <td>0</td>\n",
              "      <td>0</td>\n",
              "      <td>0</td>\n",
              "      <td>0</td>\n",
              "      <td>0</td>\n",
              "      <td>1</td>\n",
              "      <td>0</td>\n",
              "      <td>0</td>\n",
              "      <td>0</td>\n",
              "      <td>0</td>\n",
              "      <td>0</td>\n",
              "      <td>0</td>\n",
              "      <td>0</td>\n",
              "      <td>0</td>\n",
              "      <td>0</td>\n",
              "      <td>0</td>\n",
              "      <td>0</td>\n",
              "      <td>0</td>\n",
              "      <td>0</td>\n",
              "      <td>0</td>\n",
              "      <td>0</td>\n",
              "      <td>0</td>\n",
              "      <td>0</td>\n",
              "      <td>0</td>\n",
              "      <td>0</td>\n",
              "      <td>0</td>\n",
              "      <td>0</td>\n",
              "      <td>0</td>\n",
              "      <td>0</td>\n",
              "    </tr>\n",
              "    <tr>\n",
              "      <th>3</th>\n",
              "      <td>2</td>\n",
              "      <td>99.800</td>\n",
              "      <td>176.600</td>\n",
              "      <td>66.200</td>\n",
              "      <td>54.300</td>\n",
              "      <td>2337</td>\n",
              "      <td>109</td>\n",
              "      <td>3.190</td>\n",
              "      <td>3.400</td>\n",
              "      <td>10.000</td>\n",
              "      <td>102</td>\n",
              "      <td>5500</td>\n",
              "      <td>30</td>\n",
              "      <td>13950.000</td>\n",
              "      <td>1</td>\n",
              "      <td>0</td>\n",
              "      <td>0</td>\n",
              "      <td>0</td>\n",
              "      <td>0</td>\n",
              "      <td>1</td>\n",
              "      <td>0</td>\n",
              "      <td>1</td>\n",
              "      <td>0</td>\n",
              "      <td>0</td>\n",
              "      <td>0</td>\n",
              "      <td>0</td>\n",
              "      <td>1</td>\n",
              "      <td>0</td>\n",
              "      <td>0</td>\n",
              "      <td>0</td>\n",
              "      <td>0</td>\n",
              "      <td>1</td>\n",
              "      <td>0</td>\n",
              "      <td>0</td>\n",
              "      <td>0</td>\n",
              "      <td>0</td>\n",
              "      <td>0</td>\n",
              "      <td>0</td>\n",
              "      <td>0</td>\n",
              "      <td>0</td>\n",
              "      <td>1</td>\n",
              "      <td>0</td>\n",
              "      <td>0</td>\n",
              "      <td>1</td>\n",
              "      <td>0</td>\n",
              "      <td>0</td>\n",
              "      <td>0</td>\n",
              "      <td>0</td>\n",
              "      <td>0</td>\n",
              "      <td>0</td>\n",
              "      <td>0</td>\n",
              "      <td>0</td>\n",
              "      <td>0</td>\n",
              "      <td>0</td>\n",
              "      <td>0</td>\n",
              "      <td>0</td>\n",
              "      <td>0</td>\n",
              "      <td>0</td>\n",
              "      <td>0</td>\n",
              "      <td>0</td>\n",
              "      <td>0</td>\n",
              "      <td>0</td>\n",
              "      <td>0</td>\n",
              "      <td>0</td>\n",
              "    </tr>\n",
              "    <tr>\n",
              "      <th>4</th>\n",
              "      <td>2</td>\n",
              "      <td>99.400</td>\n",
              "      <td>176.600</td>\n",
              "      <td>66.400</td>\n",
              "      <td>54.300</td>\n",
              "      <td>2824</td>\n",
              "      <td>136</td>\n",
              "      <td>3.190</td>\n",
              "      <td>3.400</td>\n",
              "      <td>8.000</td>\n",
              "      <td>115</td>\n",
              "      <td>5500</td>\n",
              "      <td>22</td>\n",
              "      <td>17450.000</td>\n",
              "      <td>1</td>\n",
              "      <td>0</td>\n",
              "      <td>0</td>\n",
              "      <td>0</td>\n",
              "      <td>0</td>\n",
              "      <td>1</td>\n",
              "      <td>0</td>\n",
              "      <td>0</td>\n",
              "      <td>0</td>\n",
              "      <td>0</td>\n",
              "      <td>0</td>\n",
              "      <td>0</td>\n",
              "      <td>1</td>\n",
              "      <td>0</td>\n",
              "      <td>0</td>\n",
              "      <td>0</td>\n",
              "      <td>1</td>\n",
              "      <td>0</td>\n",
              "      <td>0</td>\n",
              "      <td>0</td>\n",
              "      <td>0</td>\n",
              "      <td>0</td>\n",
              "      <td>0</td>\n",
              "      <td>0</td>\n",
              "      <td>0</td>\n",
              "      <td>0</td>\n",
              "      <td>1</td>\n",
              "      <td>0</td>\n",
              "      <td>0</td>\n",
              "      <td>1</td>\n",
              "      <td>0</td>\n",
              "      <td>0</td>\n",
              "      <td>0</td>\n",
              "      <td>0</td>\n",
              "      <td>0</td>\n",
              "      <td>0</td>\n",
              "      <td>0</td>\n",
              "      <td>0</td>\n",
              "      <td>0</td>\n",
              "      <td>0</td>\n",
              "      <td>0</td>\n",
              "      <td>0</td>\n",
              "      <td>0</td>\n",
              "      <td>0</td>\n",
              "      <td>0</td>\n",
              "      <td>0</td>\n",
              "      <td>0</td>\n",
              "      <td>0</td>\n",
              "      <td>0</td>\n",
              "      <td>0</td>\n",
              "    </tr>\n",
              "  </tbody>\n",
              "</table>\n",
              "</div>"
            ],
            "text/plain": [
              "   symboling  wheelbase  ...  Company_volkswagen  Company_volvo\n",
              "0          3     88.600  ...                   0              0\n",
              "1          3     88.600  ...                   0              0\n",
              "2          1     94.500  ...                   0              0\n",
              "3          2     99.800  ...                   0              0\n",
              "4          2     99.400  ...                   0              0\n",
              "\n",
              "[5 rows x 64 columns]"
            ]
          },
          "metadata": {},
          "execution_count": 147
        }
      ]
    },
    {
      "cell_type": "markdown",
      "metadata": {
        "id": "iqRg2YZlAZYL"
      },
      "source": [
        "Linear regression model"
      ]
    },
    {
      "cell_type": "code",
      "metadata": {
        "id": "Jx4LM11_x_hv",
        "colab": {
          "base_uri": "https://localhost:8080/"
        },
        "outputId": "5eec908a-307c-4178-9228-226db3a39d1e"
      },
      "source": [
        "X= EDA_df1.drop('price', axis=1)\n",
        "y= EDA_df1['price']\n",
        "X_train, X_test, y_train, y_test = train_test_split(X, y, test_size=0.2, random_state=50)\n",
        "\n",
        "model = LinearRegression()\n",
        "\n",
        "\n",
        "model.fit(X_train, y_train)\n",
        "y_pred = model.predict(X_test)\n",
        "\n",
        "print (f'model : {model} and  rmse score is : {np.sqrt(mean_squared_error(y_test, y_pred))}, r2 score is {r2_score(y_test, y_pred)}')"
      ],
      "execution_count": null,
      "outputs": [
        {
          "output_type": "stream",
          "name": "stdout",
          "text": [
            "model : LinearRegression(copy_X=True, fit_intercept=True, n_jobs=None, normalize=False) and  rmse score is : 1868.154474483502, r2 score is 0.924292801437844\n"
          ]
        }
      ]
    },
    {
      "cell_type": "markdown",
      "metadata": {
        "id": "ovN2LM1JAWkl"
      },
      "source": [
        "Ridge & Lasso & Elasticnet & KNN with Scaler and Transformer"
      ]
    },
    {
      "cell_type": "code",
      "metadata": {
        "colab": {
          "base_uri": "https://localhost:8080/",
          "height": 414
        },
        "id": "6-lboPCkABcr",
        "outputId": "db160611-e8dc-4f2c-aa88-7bec140ff7ad"
      },
      "source": [
        "rmse_test =[]\n",
        "r2_test =[]\n",
        "model_names =[]\n",
        "\n",
        "numerical1= EDA_df1.drop(['price'], axis=1).select_dtypes('number').columns\n",
        "\n",
        "X= EDA_df1.drop('price', axis=1)\n",
        "y= EDA_df1['price']\n",
        "X_train, X_test, y_train, y_test = train_test_split(X, y, test_size=0.2, random_state=50)\n",
        "\n",
        "s = StandardScaler()\n",
        "p= PowerTransformer(method='yeo-johnson', standardize=True)\n",
        "\n",
        "rr = Ridge()\n",
        "las = Lasso()\n",
        "el= ElasticNet()\n",
        "knn = KNeighborsRegressor()\n",
        "\n",
        "models = [rr,las,el,knn]\n",
        "\n",
        "for model in models:\n",
        "    ct = make_column_transformer((s,numerical2),(p,skew_cols.index),remainder='passthrough')  \n",
        "    pipe = make_pipeline(ct, model)\n",
        "    pipe.fit(X_train, y_train)\n",
        "    y_pred = pipe.predict(X_test)\n",
        "    rmse_test.append(round(np.sqrt(mean_squared_error(y_test, y_pred)),2))\n",
        "    r2_test.append(round(r2_score(y_test, y_pred),2))\n",
        "    print (f'model : {model} and  rmse score is : {round(np.sqrt(mean_squared_error(y_test, y_pred)),2)}, r2 score is {round(r2_score(y_test, y_pred),2)}')\n",
        "\n",
        "model_names = ['Ridge','Lasso','ElasticNet','KNeighbors']\n",
        "result_df = pd.DataFrame({'RMSE':rmse_test,'R2_Test':r2_test}, index=model_names)\n",
        "result_df"
      ],
      "execution_count": null,
      "outputs": [
        {
          "output_type": "stream",
          "name": "stdout",
          "text": [
            "model : Ridge(alpha=1.0, copy_X=True, fit_intercept=True, max_iter=None,\n",
            "      normalize=False, random_state=None, solver='auto', tol=0.001) and  rmse score is : 1622.59, r2 score is 0.94\n",
            "model : Lasso(alpha=1.0, copy_X=True, fit_intercept=True, max_iter=1000,\n",
            "      normalize=False, positive=False, precompute=False, random_state=None,\n",
            "      selection='cyclic', tol=0.0001, warm_start=False) and  rmse score is : 2230.8, r2 score is 0.89\n",
            "model : ElasticNet(alpha=1.0, copy_X=True, fit_intercept=True, l1_ratio=0.5,\n",
            "           max_iter=1000, normalize=False, positive=False, precompute=False,\n",
            "           random_state=None, selection='cyclic', tol=0.0001, warm_start=False) and  rmse score is : 2329.68, r2 score is 0.88\n",
            "model : KNeighborsRegressor(algorithm='auto', leaf_size=30, metric='minkowski',\n",
            "                    metric_params=None, n_jobs=None, n_neighbors=5, p=2,\n",
            "                    weights='uniform') and  rmse score is : 2559.75, r2 score is 0.86\n"
          ]
        },
        {
          "output_type": "stream",
          "name": "stderr",
          "text": [
            "/usr/local/lib/python3.7/dist-packages/sklearn/linear_model/_coordinate_descent.py:476: ConvergenceWarning: Objective did not converge. You might want to increase the number of iterations. Duality gap: 29220858.1320906, tolerance: 1099253.7434955859\n",
            "  positive)\n"
          ]
        },
        {
          "output_type": "execute_result",
          "data": {
            "text/html": [
              "<div>\n",
              "<style scoped>\n",
              "    .dataframe tbody tr th:only-of-type {\n",
              "        vertical-align: middle;\n",
              "    }\n",
              "\n",
              "    .dataframe tbody tr th {\n",
              "        vertical-align: top;\n",
              "    }\n",
              "\n",
              "    .dataframe thead th {\n",
              "        text-align: right;\n",
              "    }\n",
              "</style>\n",
              "<table border=\"1\" class=\"dataframe\">\n",
              "  <thead>\n",
              "    <tr style=\"text-align: right;\">\n",
              "      <th></th>\n",
              "      <th>RMSE</th>\n",
              "      <th>R2_Test</th>\n",
              "    </tr>\n",
              "  </thead>\n",
              "  <tbody>\n",
              "    <tr>\n",
              "      <th>Ridge</th>\n",
              "      <td>1622.590</td>\n",
              "      <td>0.940</td>\n",
              "    </tr>\n",
              "    <tr>\n",
              "      <th>Lasso</th>\n",
              "      <td>2230.800</td>\n",
              "      <td>0.890</td>\n",
              "    </tr>\n",
              "    <tr>\n",
              "      <th>ElasticNet</th>\n",
              "      <td>2329.680</td>\n",
              "      <td>0.880</td>\n",
              "    </tr>\n",
              "    <tr>\n",
              "      <th>KNeighbors</th>\n",
              "      <td>2559.750</td>\n",
              "      <td>0.860</td>\n",
              "    </tr>\n",
              "  </tbody>\n",
              "</table>\n",
              "</div>"
            ],
            "text/plain": [
              "               RMSE  R2_Test\n",
              "Ridge      1622.590    0.940\n",
              "Lasso      2230.800    0.890\n",
              "ElasticNet 2329.680    0.880\n",
              "KNeighbors 2559.750    0.860"
            ]
          },
          "metadata": {},
          "execution_count": 154
        }
      ]
    },
    {
      "cell_type": "markdown",
      "metadata": {
        "id": "RoJvrm2LbD20"
      },
      "source": [
        "RFR,GBR,ETR,XGB"
      ]
    },
    {
      "cell_type": "code",
      "metadata": {
        "colab": {
          "base_uri": "https://localhost:8080/",
          "height": 700
        },
        "id": "RbgRIwNzAfY7",
        "outputId": "537002ed-2cd7-4fdb-d5b5-438a9aa025f2"
      },
      "source": [
        "rmse_test =[]\n",
        "r2_test =[]\n",
        "model_names =[]\n",
        "\n",
        "\n",
        "\n",
        "X= EDA_df1.drop('price', axis=1)\n",
        "y= EDA_df1['price']\n",
        "X_train, X_test, y_train, y_test = train_test_split(X, y, test_size=0.2, random_state=50)\n",
        "\n",
        "\n",
        "rf = RandomForestRegressor(random_state=50)\n",
        "gb = GradientBoostingRegressor(random_state=50)\n",
        "et= ExtraTreesRegressor(random_state=50)\n",
        "xgb = XGBRegressor(random_state=50)\n",
        "\n",
        "models = [rf,gb,et,xgb]\n",
        "\n",
        "for model in models:\n",
        "    model.fit(X_train, y_train)\n",
        "    y_pred = model.predict(X_test)\n",
        "    rmse_test.append(round(np.sqrt(mean_squared_error(y_test, y_pred)),2))\n",
        "    r2_test.append(round(r2_score(y_test, y_pred),2))\n",
        "    print (f'model : {model} and  rmse score is : {round(np.sqrt(mean_squared_error(y_test, y_pred)),2)}, r2 score is {round(r2_score(y_test, y_pred),4)}')\n",
        "\n",
        "model_names = ['RandomForest','GradientBoost','ExtraTree','XGB']\n",
        "result_df = pd.DataFrame({'RMSE':rmse_test,'R2_Test':r2_test}, index=model_names)\n",
        "result_df"
      ],
      "execution_count": null,
      "outputs": [
        {
          "output_type": "stream",
          "name": "stdout",
          "text": [
            "model : RandomForestRegressor(bootstrap=True, ccp_alpha=0.0, criterion='mse',\n",
            "                      max_depth=None, max_features='auto', max_leaf_nodes=None,\n",
            "                      max_samples=None, min_impurity_decrease=0.0,\n",
            "                      min_impurity_split=None, min_samples_leaf=1,\n",
            "                      min_samples_split=2, min_weight_fraction_leaf=0.0,\n",
            "                      n_estimators=100, n_jobs=None, oob_score=False,\n",
            "                      random_state=50, verbose=0, warm_start=False) and  rmse score is : 1928.47, r2 score is 0.9193\n",
            "model : GradientBoostingRegressor(alpha=0.9, ccp_alpha=0.0, criterion='friedman_mse',\n",
            "                          init=None, learning_rate=0.1, loss='ls', max_depth=3,\n",
            "                          max_features=None, max_leaf_nodes=None,\n",
            "                          min_impurity_decrease=0.0, min_impurity_split=None,\n",
            "                          min_samples_leaf=1, min_samples_split=2,\n",
            "                          min_weight_fraction_leaf=0.0, n_estimators=100,\n",
            "                          n_iter_no_change=None, presort='deprecated',\n",
            "                          random_state=50, subsample=1.0, tol=0.0001,\n",
            "                          validation_fraction=0.1, verbose=0, warm_start=False) and  rmse score is : 1797.76, r2 score is 0.9299\n",
            "model : ExtraTreesRegressor(bootstrap=False, ccp_alpha=0.0, criterion='mse',\n",
            "                    max_depth=None, max_features='auto', max_leaf_nodes=None,\n",
            "                    max_samples=None, min_impurity_decrease=0.0,\n",
            "                    min_impurity_split=None, min_samples_leaf=1,\n",
            "                    min_samples_split=2, min_weight_fraction_leaf=0.0,\n",
            "                    n_estimators=100, n_jobs=None, oob_score=False,\n",
            "                    random_state=50, verbose=0, warm_start=False) and  rmse score is : 1826.6, r2 score is 0.9276\n",
            "[11:46:17] WARNING: /workspace/src/objective/regression_obj.cu:152: reg:linear is now deprecated in favor of reg:squarederror.\n",
            "model : XGBRegressor(base_score=0.5, booster='gbtree', colsample_bylevel=1,\n",
            "             colsample_bynode=1, colsample_bytree=1, gamma=0,\n",
            "             importance_type='gain', learning_rate=0.1, max_delta_step=0,\n",
            "             max_depth=3, min_child_weight=1, missing=None, n_estimators=100,\n",
            "             n_jobs=1, nthread=None, objective='reg:linear', random_state=50,\n",
            "             reg_alpha=0, reg_lambda=1, scale_pos_weight=1, seed=None,\n",
            "             silent=None, subsample=1, verbosity=1) and  rmse score is : 1636.69, r2 score is 0.9419\n"
          ]
        },
        {
          "output_type": "execute_result",
          "data": {
            "text/html": [
              "<div>\n",
              "<style scoped>\n",
              "    .dataframe tbody tr th:only-of-type {\n",
              "        vertical-align: middle;\n",
              "    }\n",
              "\n",
              "    .dataframe tbody tr th {\n",
              "        vertical-align: top;\n",
              "    }\n",
              "\n",
              "    .dataframe thead th {\n",
              "        text-align: right;\n",
              "    }\n",
              "</style>\n",
              "<table border=\"1\" class=\"dataframe\">\n",
              "  <thead>\n",
              "    <tr style=\"text-align: right;\">\n",
              "      <th></th>\n",
              "      <th>RMSE</th>\n",
              "      <th>R2_Test</th>\n",
              "    </tr>\n",
              "  </thead>\n",
              "  <tbody>\n",
              "    <tr>\n",
              "      <th>RandomForest</th>\n",
              "      <td>1928.470</td>\n",
              "      <td>0.920</td>\n",
              "    </tr>\n",
              "    <tr>\n",
              "      <th>GradientBoost</th>\n",
              "      <td>1797.760</td>\n",
              "      <td>0.930</td>\n",
              "    </tr>\n",
              "    <tr>\n",
              "      <th>ExtraTree</th>\n",
              "      <td>1826.600</td>\n",
              "      <td>0.930</td>\n",
              "    </tr>\n",
              "    <tr>\n",
              "      <th>XGB</th>\n",
              "      <td>1636.690</td>\n",
              "      <td>0.940</td>\n",
              "    </tr>\n",
              "  </tbody>\n",
              "</table>\n",
              "</div>"
            ],
            "text/plain": [
              "                  RMSE  R2_Test\n",
              "RandomForest  1928.470    0.920\n",
              "GradientBoost 1797.760    0.930\n",
              "ExtraTree     1826.600    0.930\n",
              "XGB           1636.690    0.940"
            ]
          },
          "metadata": {},
          "execution_count": 155
        }
      ]
    }
  ]
}